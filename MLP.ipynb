{
  "nbformat": 4,
  "nbformat_minor": 0,
  "metadata": {
    "colab": {
      "name": "MLP.ipynb",
      "provenance": []
    },
    "kernelspec": {
      "name": "python3",
      "display_name": "Python 3"
    },
    "accelerator": "GPU"
  },
  "cells": [
    {
      "cell_type": "code",
      "metadata": {
        "id": "FTtBP3KPAeBB",
        "colab_type": "code",
        "colab": {
          "base_uri": "https://localhost:8080/",
          "height": 71
        },
        "outputId": "7af83c62-59da-4179-9fd9-4e1aaf57ab59"
      },
      "source": [
        "import numpy as np\n",
        "import pandas as pd\n",
        "import matplotlib.pyplot as plt\n",
        "import seaborn as sns\n",
        "\n",
        "import joblib\n",
        "from scipy import sparse\n",
        "\n",
        "from sklearn.metrics import confusion_matrix\n",
        "from sklearn import metrics\n",
        "from sklearn.metrics import roc_curve, auc , roc_auc_score\n",
        "\n",
        "import tensorflow as tf\n",
        "import keras "
      ],
      "execution_count": 2,
      "outputs": [
        {
          "output_type": "stream",
          "text": [
            "/usr/local/lib/python3.6/dist-packages/statsmodels/tools/_testing.py:19: FutureWarning: pandas.util.testing is deprecated. Use the functions in the public API at pandas.testing instead.\n",
            "  import pandas.util.testing as tm\n"
          ],
          "name": "stderr"
        }
      ]
    },
    {
      "cell_type": "markdown",
      "metadata": {
        "id": "KsUCadBcRAaB",
        "colab_type": "text"
      },
      "source": [
        "#Bag of words"
      ]
    },
    {
      "cell_type": "markdown",
      "metadata": {
        "id": "bSZMegYtTFYg",
        "colab_type": "text"
      },
      "source": [
        "##Loading the data"
      ]
    },
    {
      "cell_type": "code",
      "metadata": {
        "id": "6ffqZOttTCfe",
        "colab_type": "code",
        "colab": {
          "base_uri": "https://localhost:8080/",
          "height": 34
        },
        "outputId": "3bba25b6-fec7-4be2-8f4f-37e76a5e7c90"
      },
      "source": [
        "#loading the data from which we have saved in npz format. Note PCA does NOT support sparse matrix as input data,\n",
        "#hence we need to convert the input into any of the supported format(eg pandas dataframe)\n",
        "X_train=sparse.load_npz(\"/content/drive/My Drive/Amazon fine food/Vectorized data/bow_train.npz\")\n",
        "\n",
        "\n",
        "#labels are stored in csv format. Note y_s have an additional column \"Unnamed :0 \"\n",
        "#It was created while creating the data frame . \n",
        "y_train= np.array(pd.read_csv(\"/content/drive/My Drive/Amazon fine food/Vectorized data/y_train.csv\").drop( 'Unnamed: 0',axis=1)) \n",
        "print(\"shape of training data \" , X_train.shape)"
      ],
      "execution_count": 11,
      "outputs": [
        {
          "output_type": "stream",
          "text": [
            "shape of training data  (254919, 19388)\n"
          ],
          "name": "stdout"
        }
      ]
    },
    {
      "cell_type": "code",
      "metadata": {
        "id": "GfL2Jm6ITI6J",
        "colab_type": "code",
        "colab": {
          "base_uri": "https://localhost:8080/",
          "height": 34
        },
        "outputId": "64ef9a93-0cf8-48f6-98c4-342cff1b3b39"
      },
      "source": [
        "X_cv = sparse.load_npz(\"/content/drive/My Drive/Amazon fine food/Vectorized data/bow_cv.npz\")\n",
        "\n",
        "y_cv = np.array(pd.read_csv(\"/content/drive/My Drive/Amazon fine food/Vectorized data/y_cv.csv\").drop( 'Unnamed: 0',axis=1))\n",
        "\n",
        "print(\"Shape of validation data \", X_cv.shape)"
      ],
      "execution_count": 12,
      "outputs": [
        {
          "output_type": "stream",
          "text": [
            "Shape of validation data  (54626, 19388)\n"
          ],
          "name": "stdout"
        }
      ]
    },
    {
      "cell_type": "code",
      "metadata": {
        "id": "eCENZ1EzTJRh",
        "colab_type": "code",
        "colab": {
          "base_uri": "https://localhost:8080/",
          "height": 34
        },
        "outputId": "f6f2c38f-b128-4684-d147-8b5b4d305ef2"
      },
      "source": [
        "X_test = sparse.load_npz(\"/content/drive/My Drive/Amazon fine food/Vectorized data/bow_test.npz\")\n",
        "\n",
        "y_test = np.array(pd.read_csv(\"/content/drive/My Drive/Amazon fine food/Vectorized data/y_test.csv\").drop( 'Unnamed: 0',axis=1))\n",
        "\n",
        "print(\"Shape of validation data \", X_cv.shape)"
      ],
      "execution_count": 13,
      "outputs": [
        {
          "output_type": "stream",
          "text": [
            "Shape of validation data  (54626, 19388)\n"
          ],
          "name": "stdout"
        }
      ]
    },
    {
      "cell_type": "code",
      "metadata": {
        "id": "s6a5JivoRjTT",
        "colab_type": "code",
        "colab": {
          "base_uri": "https://localhost:8080/",
          "height": 255
        },
        "outputId": "ddad7b41-0c57-40e6-c0a6-4cb132c94a7d"
      },
      "source": [
        "#shallow model\n",
        "#input() >> relu(500) >> dropout(0.25) >> sigmoid(1)  \n",
        "model = tf.keras.models.Sequential([\n",
        "  tf.keras.layers.InputLayer(X_train.shape[1] , sparse= True),\n",
        "  tf.keras.layers.Dense(500 , activation= 'relu') ,\n",
        "  tf.keras.layers.Dropout(0.25),\n",
        "  tf.keras.layers.Dense(1 , activation= 'sigmoid')\n",
        "])\n",
        "\n",
        "model.summary()"
      ],
      "execution_count": 9,
      "outputs": [
        {
          "output_type": "stream",
          "text": [
            "Model: \"sequential_1\"\n",
            "_________________________________________________________________\n",
            "Layer (type)                 Output Shape              Param #   \n",
            "=================================================================\n",
            "dense_2 (Dense)              (None, 500)               9694500   \n",
            "_________________________________________________________________\n",
            "dropout_1 (Dropout)          (None, 500)               0         \n",
            "_________________________________________________________________\n",
            "dense_3 (Dense)              (None, 1)                 501       \n",
            "=================================================================\n",
            "Total params: 9,695,001\n",
            "Trainable params: 9,695,001\n",
            "Non-trainable params: 0\n",
            "_________________________________________________________________\n"
          ],
          "name": "stdout"
        }
      ]
    },
    {
      "cell_type": "code",
      "metadata": {
        "id": "6JrIeiB-Q8Tx",
        "colab_type": "code",
        "colab": {}
      },
      "source": [
        "loss_fn = tf.keras.losses.BinaryCrossentropy(from_logits= True)"
      ],
      "execution_count": 20,
      "outputs": []
    },
    {
      "cell_type": "code",
      "metadata": {
        "id": "AciyTPe5KH-8",
        "colab_type": "code",
        "colab": {}
      },
      "source": [
        "model.compile(optimizer='adam',\n",
        "              loss=loss_fn,\n",
        "              metrics=['accuracy'])"
      ],
      "execution_count": 11,
      "outputs": []
    },
    {
      "cell_type": "code",
      "metadata": {
        "id": "f796jUgWPWkt",
        "colab_type": "code",
        "colab": {
          "base_uri": "https://localhost:8080/",
          "height": 697
        },
        "outputId": "bc635303-e856-4e21-8bc8-5c94a6e8a390"
      },
      "source": [
        "history = model.fit(\n",
        "    x = X_train  , y = y_train,\n",
        "    validation_data = (X_cv, y_cv),\n",
        "    epochs = 20, batch_size = 128 ,\n",
        "    callbacks =[\n",
        "                keras.callbacks.EarlyStopping(monitor = 'val_accuracy' , patience = 4)\n",
        "    ]\n",
        ")"
      ],
      "execution_count": 12,
      "outputs": [
        {
          "output_type": "stream",
          "text": [
            "Epoch 1/20\n",
            "1992/1992 [==============================] - 17s 9ms/step - loss: 0.4191 - accuracy: 0.9146 - val_loss: 0.4105 - val_accuracy: 0.9244\n",
            "Epoch 2/20\n",
            "1992/1992 [==============================] - 17s 8ms/step - loss: 0.4055 - accuracy: 0.9340 - val_loss: 0.4101 - val_accuracy: 0.9268\n",
            "Epoch 3/20\n",
            "1992/1992 [==============================] - 16s 8ms/step - loss: 0.4021 - accuracy: 0.9414 - val_loss: 0.4102 - val_accuracy: 0.9279\n",
            "Epoch 4/20\n",
            "1992/1992 [==============================] - 16s 8ms/step - loss: 0.3992 - accuracy: 0.9472 - val_loss: 0.4101 - val_accuracy: 0.9274\n",
            "Epoch 5/20\n",
            "1992/1992 [==============================] - 16s 8ms/step - loss: 0.3963 - accuracy: 0.9540 - val_loss: 0.4095 - val_accuracy: 0.9277\n",
            "Epoch 6/20\n",
            "1992/1992 [==============================] - 18s 9ms/step - loss: 0.3935 - accuracy: 0.9601 - val_loss: 0.4097 - val_accuracy: 0.9287\n",
            "Epoch 7/20\n",
            "1992/1992 [==============================] - 17s 8ms/step - loss: 0.3911 - accuracy: 0.9654 - val_loss: 0.4093 - val_accuracy: 0.9291\n",
            "Epoch 8/20\n",
            "1992/1992 [==============================] - 17s 8ms/step - loss: 0.3892 - accuracy: 0.9692 - val_loss: 0.4090 - val_accuracy: 0.9286\n",
            "Epoch 9/20\n",
            "1992/1992 [==============================] - 17s 8ms/step - loss: 0.3877 - accuracy: 0.9722 - val_loss: 0.4087 - val_accuracy: 0.9304\n",
            "Epoch 10/20\n",
            "1992/1992 [==============================] - 17s 8ms/step - loss: 0.3865 - accuracy: 0.9745 - val_loss: 0.4089 - val_accuracy: 0.9303\n",
            "Epoch 11/20\n",
            "1992/1992 [==============================] - 16s 8ms/step - loss: 0.3855 - accuracy: 0.9763 - val_loss: 0.4085 - val_accuracy: 0.9302\n",
            "Epoch 12/20\n",
            "1992/1992 [==============================] - 16s 8ms/step - loss: 0.3848 - accuracy: 0.9778 - val_loss: 0.4089 - val_accuracy: 0.9261\n",
            "Epoch 13/20\n",
            "1992/1992 [==============================] - 16s 8ms/step - loss: 0.3841 - accuracy: 0.9791 - val_loss: 0.4085 - val_accuracy: 0.9305\n",
            "Epoch 14/20\n",
            "1992/1992 [==============================] - 16s 8ms/step - loss: 0.3835 - accuracy: 0.9802 - val_loss: 0.4085 - val_accuracy: 0.9302\n",
            "Epoch 15/20\n",
            "1992/1992 [==============================] - 16s 8ms/step - loss: 0.3830 - accuracy: 0.9812 - val_loss: 0.4086 - val_accuracy: 0.9307\n",
            "Epoch 16/20\n",
            "1992/1992 [==============================] - 16s 8ms/step - loss: 0.3825 - accuracy: 0.9820 - val_loss: 0.4085 - val_accuracy: 0.9313\n",
            "Epoch 17/20\n",
            "1992/1992 [==============================] - 16s 8ms/step - loss: 0.3822 - accuracy: 0.9827 - val_loss: 0.4085 - val_accuracy: 0.9297\n",
            "Epoch 18/20\n",
            "1992/1992 [==============================] - 16s 8ms/step - loss: 0.3819 - accuracy: 0.9833 - val_loss: 0.4086 - val_accuracy: 0.9311\n",
            "Epoch 19/20\n",
            "1992/1992 [==============================] - 16s 8ms/step - loss: 0.3817 - accuracy: 0.9837 - val_loss: 0.4085 - val_accuracy: 0.9305\n",
            "Epoch 20/20\n",
            "1992/1992 [==============================] - 17s 8ms/step - loss: 0.3814 - accuracy: 0.9842 - val_loss: 0.4085 - val_accuracy: 0.9314\n"
          ],
          "name": "stdout"
        }
      ]
    },
    {
      "cell_type": "code",
      "metadata": {
        "id": "82m5oOPtPs32",
        "colab_type": "code",
        "colab": {
          "base_uri": "https://localhost:8080/",
          "height": 573
        },
        "outputId": "77309a10-2c5b-454e-e4d1-951cfce0a307"
      },
      "source": [
        "#  \"Accuracy\"\n",
        "plt.plot(history.history['accuracy'])\n",
        "plt.plot(history.history['val_accuracy'])\n",
        "plt.title('model accuracy')\n",
        "plt.ylabel('accuracy')\n",
        "plt.xlabel('epoch')\n",
        "plt.legend(['train', 'validation'], loc='upper left')\n",
        "plt.show()\n",
        "# \"Loss\"\n",
        "plt.plot(history.history['loss'])\n",
        "plt.plot(history.history['val_loss'])\n",
        "plt.title('model loss')\n",
        "plt.ylabel('loss')\n",
        "plt.xlabel('epoch')\n",
        "plt.legend(['train', 'validation'], loc='upper left')\n",
        "plt.show()"
      ],
      "execution_count": 13,
      "outputs": [
        {
          "output_type": "display_data",
          "data": {
            "image/png": "[encoded data removed]",
            "text/plain": [
              "<Figure size 432x288 with 1 Axes>"
            ]
          },
          "metadata": {
            "tags": [],
            "needs_background": "light"
          }
        },
        {
          "output_type": "display_data",
          "data": {
            "image/png": "[encoded data removed]",
            "text/plain": [
              "<Figure size 432x288 with 1 Axes>"
            ]
          },
          "metadata": {
            "tags": [],
            "needs_background": "light"
          }
        }
      ]
    },
    {
      "cell_type": "code",
      "metadata": {
        "id": "IvnZ8HDLQwt0",
        "colab_type": "code",
        "colab": {}
      },
      "source": [
        "#saving the model\n",
        "model.save(\"model.h5\")"
      ],
      "execution_count": 25,
      "outputs": []
    },
    {
      "cell_type": "code",
      "metadata": {
        "id": "lzYuccxKa-jt",
        "colab_type": "code",
        "colab": {}
      },
      "source": [
        "model = keras.models.load_model(\"/content/drive/My Drive/model.h5\")"
      ],
      "execution_count": 26,
      "outputs": []
    },
    {
      "cell_type": "code",
      "metadata": {
        "id": "SOvWhMr3d3Zq",
        "colab_type": "code",
        "colab": {
          "base_uri": "https://localhost:8080/",
          "height": 814
        },
        "outputId": "7d4113ff-9733-4fb3-efd5-2ae47f2aa262"
      },
      "source": [
        "#testing the model\n",
        "import scikitplot.metrics as skplt\n",
        "\n",
        "prediction =  model.predict(X_test)\n",
        "print(\"AUC score on test data\", roc_auc_score(y_test,prediction))\n",
        "\n",
        "fpr, tpr, thresholds= metrics.roc_curve(y_test, prediction )\n",
        "plt.plot([0,1],[0,1],linestyle='--')# for a random(dumb) model\n",
        "plt.plot(fpr,tpr,marker='.')\n",
        "plt.title(r\"ROC curve on test data\")\n",
        "plt.xlabel(\"false positive rate\", fontsize=12)\n",
        "plt.ylabel(\"True positive rate\", fontsize=12)\n",
        "plt.show()\n",
        "\n",
        "\n",
        "skplt.plot_confusion_matrix(y_test, np.round(prediction))\n",
        "print(\"macro f1 score for data :\",metrics.f1_score(y_test,  np.round(prediction), average = 'macro'))\n",
        "print(\"micro f1 scoore for data:\",metrics.f1_score(y_test,  np.round(prediction), average = 'micro'))\n",
        "print(\"hamming loss for data:\",metrics.hamming_loss(y_test, np.round(prediction)))\n",
        "print(\"Precision recall report for data:\\n\",metrics.classification_report(y_test,  np.round(prediction)))"
      ],
      "execution_count": 45,
      "outputs": [
        {
          "output_type": "stream",
          "text": [
            "AUC score on test data 0.9459805161241897\n"
          ],
          "name": "stdout"
        },
        {
          "output_type": "display_data",
          "data": {
            "image/png": "[encoded data removed]",
            "text/plain": [
              "<Figure size 432x288 with 1 Axes>"
            ]
          },
          "metadata": {
            "tags": [],
            "needs_background": "light"
          }
        },
        {
          "output_type": "stream",
          "text": [
            "macro f1 score for data : 0.8658524096124933\n",
            "micro f1 scoore for data: 0.9303079119833046\n",
            "hamming loss for data: 0.06969208801669535\n",
            "Precision recall report for data:\n",
            "               precision    recall  f1-score   support\n",
            "\n",
            "           0       0.80      0.75      0.77      8646\n",
            "           1       0.95      0.96      0.96     45980\n",
            "\n",
            "    accuracy                           0.93     54626\n",
            "   macro avg       0.88      0.86      0.87     54626\n",
            "weighted avg       0.93      0.93      0.93     54626\n",
            "\n"
          ],
          "name": "stdout"
        },
        {
          "output_type": "display_data",
          "data": {
            "image/png": "[encoded data removed]",
            "text/plain": [
              "<Figure size 432x288 with 2 Axes>"
            ]
          },
          "metadata": {
            "tags": [],
            "needs_background": "light"
          }
        }
      ]
    },
    {
      "cell_type": "markdown",
      "metadata": {
        "id": "Au2CgRwHrTuM",
        "colab_type": "text"
      },
      "source": [
        "#Word 2 vec"
      ]
    },
    {
      "cell_type": "code",
      "metadata": {
        "id": "eFv0gOi1d5nN",
        "colab_type": "code",
        "colab": {
          "base_uri": "https://localhost:8080/",
          "height": 34
        },
        "outputId": "0b01d91b-e160-451a-9e0d-5ffe22fa4349"
      },
      "source": [
        "X_train=sparse.load_npz(\"/content/drive/My Drive/Amazon fine food/Vectorized data/w2v_train.npz\")\n",
        "X_train = X_train.A\n",
        "print(\"Shape of trining data \", X_train.shape)"
      ],
      "execution_count": 14,
      "outputs": [
        {
          "output_type": "stream",
          "text": [
            "Shape of trining data  (254919, 50)\n"
          ],
          "name": "stdout"
        }
      ]
    },
    {
      "cell_type": "code",
      "metadata": {
        "id": "Pdv1-0boeYY3",
        "colab_type": "code",
        "colab": {
          "base_uri": "https://localhost:8080/",
          "height": 34
        },
        "outputId": "37cdb282-4025-40f6-c365-342574fbee9a"
      },
      "source": [
        "X_cv = sparse.load_npz(\"/content/drive/My Drive/Amazon fine food/Vectorized data/w2v_cv.npz\")\n",
        "\n",
        "\n",
        "X_cv = X_cv.A\n",
        "print(\"Shape of validation data \", X_cv.shape)"
      ],
      "execution_count": 15,
      "outputs": [
        {
          "output_type": "stream",
          "text": [
            "Shape of validation data  (54626, 50)\n"
          ],
          "name": "stdout"
        }
      ]
    },
    {
      "cell_type": "code",
      "metadata": {
        "id": "wB6u3ua0eeT6",
        "colab_type": "code",
        "colab": {
          "base_uri": "https://localhost:8080/",
          "height": 34
        },
        "outputId": "f1a970ca-cf30-4352-a18b-7fb586d89d8e"
      },
      "source": [
        "X_test = sparse.load_npz(\"/content/drive/My Drive/Amazon fine food/Vectorized data/w2v_test.npz\")\n",
        "\n",
        "X_test = X_test.A\n",
        "\n",
        "print(\"Shape of validation data \", X_test.shape)"
      ],
      "execution_count": 16,
      "outputs": [
        {
          "output_type": "stream",
          "text": [
            "Shape of validation data  (54626, 50)\n"
          ],
          "name": "stdout"
        }
      ]
    },
    {
      "cell_type": "code",
      "metadata": {
        "id": "xsApFUb1swcI",
        "colab_type": "code",
        "colab": {
          "base_uri": "https://localhost:8080/",
          "height": 527
        },
        "outputId": "e54aae62-51a6-45b6-c3c9-798a216bd7b1"
      },
      "source": [
        "#shallow model  \n",
        "model = tf.keras.models.Sequential([\n",
        "  tf.keras.layers.InputLayer( 50 ),\n",
        "\n",
        "  tf.keras.layers.Dense(200 , activation= 'relu') ,\n",
        "  tf.keras.layers.Dropout(0.3),\n",
        "\n",
        "  tf.keras.layers.Dense(400 , activation= 'relu') ,\n",
        "  tf.keras.layers.Dropout(0.3),\n",
        "  tf.keras.layers.BatchNormalization(),\n",
        "\n",
        "  tf.keras.layers.Dense(200 , activation= 'relu') ,\n",
        "  tf.keras.layers.Dropout(0.3),\n",
        "\n",
        "  tf.keras.layers.Dense( 50 , activation= 'relu') ,\n",
        "  tf.keras.layers.Dropout(0.3),\n",
        "\n",
        "  tf.keras.layers.BatchNormalization(),\n",
        "  tf.keras.layers.Dense(1 , activation= 'sigmoid')\n",
        "])\n",
        "\n",
        "model.summary()"
      ],
      "execution_count": 23,
      "outputs": [
        {
          "output_type": "stream",
          "text": [
            "Model: \"sequential_2\"\n",
            "_________________________________________________________________\n",
            "Layer (type)                 Output Shape              Param #   \n",
            "=================================================================\n",
            "dense_9 (Dense)              (None, 200)               10200     \n",
            "_________________________________________________________________\n",
            "dropout_7 (Dropout)          (None, 200)               0         \n",
            "_________________________________________________________________\n",
            "dense_10 (Dense)             (None, 400)               80400     \n",
            "_________________________________________________________________\n",
            "dropout_8 (Dropout)          (None, 400)               0         \n",
            "_________________________________________________________________\n",
            "batch_normalization_3 (Batch (None, 400)               1600      \n",
            "_________________________________________________________________\n",
            "dense_11 (Dense)             (None, 200)               80200     \n",
            "_________________________________________________________________\n",
            "dropout_9 (Dropout)          (None, 200)               0         \n",
            "_________________________________________________________________\n",
            "dense_12 (Dense)             (None, 50)                10050     \n",
            "_________________________________________________________________\n",
            "dropout_10 (Dropout)         (None, 50)                0         \n",
            "_________________________________________________________________\n",
            "batch_normalization_4 (Batch (None, 50)                200       \n",
            "_________________________________________________________________\n",
            "dense_13 (Dense)             (None, 1)                 51        \n",
            "=================================================================\n",
            "Total params: 182,701\n",
            "Trainable params: 181,801\n",
            "Non-trainable params: 900\n",
            "_________________________________________________________________\n"
          ],
          "name": "stdout"
        }
      ]
    },
    {
      "cell_type": "code",
      "metadata": {
        "id": "LLfFzf21s3ow",
        "colab_type": "code",
        "colab": {}
      },
      "source": [
        "model.compile(optimizer='adam',\n",
        "              loss=loss_fn,\n",
        "              metrics=['accuracy'])"
      ],
      "execution_count": 24,
      "outputs": []
    },
    {
      "cell_type": "code",
      "metadata": {
        "id": "Err3tOKWtGXD",
        "colab_type": "code",
        "colab": {
          "base_uri": "https://localhost:8080/",
          "height": 697
        },
        "outputId": "d479900d-7e2e-488c-e160-630e3c7a105a"
      },
      "source": [
        "history = model.fit(\n",
        "    x = X_train, y = y_train , \n",
        "    validation_data = (X_cv, y_cv),\n",
        "    epochs = 20, batch_size = 128 \n",
        ")"
      ],
      "execution_count": 25,
      "outputs": [
        {
          "output_type": "stream",
          "text": [
            "Epoch 1/20\n",
            "1992/1992 [==============================] - 12s 6ms/step - loss: 0.4303 - accuracy: 0.8825 - val_loss: 0.4243 - val_accuracy: 0.8968\n",
            "Epoch 2/20\n",
            "1992/1992 [==============================] - 12s 6ms/step - loss: 0.4247 - accuracy: 0.8947 - val_loss: 0.4250 - val_accuracy: 0.9027\n",
            "Epoch 3/20\n",
            "1992/1992 [==============================] - 12s 6ms/step - loss: 0.4236 - accuracy: 0.8971 - val_loss: 0.4227 - val_accuracy: 0.9021\n",
            "Epoch 4/20\n",
            "1992/1992 [==============================] - 12s 6ms/step - loss: 0.4226 - accuracy: 0.8995 - val_loss: 0.4229 - val_accuracy: 0.9052\n",
            "Epoch 5/20\n",
            "1992/1992 [==============================] - 12s 6ms/step - loss: 0.4219 - accuracy: 0.9012 - val_loss: 0.4233 - val_accuracy: 0.9015\n",
            "Epoch 6/20\n",
            "1992/1992 [==============================] - 12s 6ms/step - loss: 0.4214 - accuracy: 0.9021 - val_loss: 0.4212 - val_accuracy: 0.9061\n",
            "Epoch 7/20\n",
            "1992/1992 [==============================] - 12s 6ms/step - loss: 0.4211 - accuracy: 0.9024 - val_loss: 0.4207 - val_accuracy: 0.9039\n",
            "Epoch 8/20\n",
            "1992/1992 [==============================] - 12s 6ms/step - loss: 0.4206 - accuracy: 0.9038 - val_loss: 0.4211 - val_accuracy: 0.9065\n",
            "Epoch 9/20\n",
            "1992/1992 [==============================] - 11s 6ms/step - loss: 0.4203 - accuracy: 0.9039 - val_loss: 0.4212 - val_accuracy: 0.9083\n",
            "Epoch 10/20\n",
            "1992/1992 [==============================] - 11s 6ms/step - loss: 0.4202 - accuracy: 0.9049 - val_loss: 0.4204 - val_accuracy: 0.9082\n",
            "Epoch 11/20\n",
            "1992/1992 [==============================] - 11s 6ms/step - loss: 0.4199 - accuracy: 0.9045 - val_loss: 0.4213 - val_accuracy: 0.9078\n",
            "Epoch 12/20\n",
            "1992/1992 [==============================] - 11s 6ms/step - loss: 0.4199 - accuracy: 0.9052 - val_loss: 0.4203 - val_accuracy: 0.9077\n",
            "Epoch 13/20\n",
            "1992/1992 [==============================] - 11s 6ms/step - loss: 0.4194 - accuracy: 0.9056 - val_loss: 0.4210 - val_accuracy: 0.9092\n",
            "Epoch 14/20\n",
            "1992/1992 [==============================] - 11s 6ms/step - loss: 0.4192 - accuracy: 0.9071 - val_loss: 0.4199 - val_accuracy: 0.9093\n",
            "Epoch 15/20\n",
            "1992/1992 [==============================] - 12s 6ms/step - loss: 0.4191 - accuracy: 0.9064 - val_loss: 0.4200 - val_accuracy: 0.9032\n",
            "Epoch 16/20\n",
            "1992/1992 [==============================] - 11s 6ms/step - loss: 0.4188 - accuracy: 0.9070 - val_loss: 0.4196 - val_accuracy: 0.9077\n",
            "Epoch 17/20\n",
            "1992/1992 [==============================] - 11s 6ms/step - loss: 0.4189 - accuracy: 0.9066 - val_loss: 0.4200 - val_accuracy: 0.9055\n",
            "Epoch 18/20\n",
            "1992/1992 [==============================] - 11s 6ms/step - loss: 0.4186 - accuracy: 0.9076 - val_loss: 0.4197 - val_accuracy: 0.9052\n",
            "Epoch 19/20\n",
            "1992/1992 [==============================] - 11s 6ms/step - loss: 0.4184 - accuracy: 0.9074 - val_loss: 0.4196 - val_accuracy: 0.9083\n",
            "Epoch 20/20\n",
            "1992/1992 [==============================] - 12s 6ms/step - loss: 0.4183 - accuracy: 0.9083 - val_loss: 0.4204 - val_accuracy: 0.9099\n"
          ],
          "name": "stdout"
        }
      ]
    },
    {
      "cell_type": "code",
      "metadata": {
        "id": "Tq2vTNzGw5kr",
        "colab_type": "code",
        "colab": {
          "base_uri": "https://localhost:8080/",
          "height": 573
        },
        "outputId": "c57576bb-58b6-42fa-93a0-c5eeded6cade"
      },
      "source": [
        "#  \"Accuracy\"\n",
        "plt.plot(history.history['accuracy'])\n",
        "plt.plot(history.history['val_accuracy'])\n",
        "plt.title('model accuracy')\n",
        "plt.ylabel('accuracy')\n",
        "plt.xlabel('epoch')\n",
        "plt.legend(['train', 'validation'], loc='upper left')\n",
        "plt.show()\n",
        "# \"Loss\"\n",
        "plt.plot(history.history['loss'])\n",
        "plt.plot(history.history['val_loss'])\n",
        "plt.title('model loss')\n",
        "plt.ylabel('loss')\n",
        "plt.xlabel('epoch')\n",
        "plt.legend(['train', 'validation'], loc='upper left')\n",
        "plt.show()"
      ],
      "execution_count": 26,
      "outputs": [
        {
          "output_type": "display_data",
          "data": {
            "image/png": "[encoded data removed]",
            "text/plain": [
              "<Figure size 432x288 with 1 Axes>"
            ]
          },
          "metadata": {
            "tags": [],
            "needs_background": "light"
          }
        },
        {
          "output_type": "display_data",
          "data": {
            "image/png": "[encoded data removed]",
            "text/plain": [
              "<Figure size 432x288 with 1 Axes>"
            ]
          },
          "metadata": {
            "tags": [],
            "needs_background": "light"
          }
        }
      ]
    },
    {
      "cell_type": "code",
      "metadata": {
        "id": "OvCslSYktjO0",
        "colab_type": "code",
        "colab": {
          "base_uri": "https://localhost:8080/",
          "height": 814
        },
        "outputId": "96ffe603-ae01-4445-f8da-e41b35e92bd7"
      },
      "source": [
        "#testing the model\n",
        "import scikitplot.metrics as skplt\n",
        "\n",
        "prediction =  model.predict(X_test)\n",
        "print(\"AUC score on test data\", roc_auc_score(y_test,prediction))\n",
        "\n",
        "fpr, tpr, thresholds= metrics.roc_curve(y_test, prediction )\n",
        "plt.plot([0,1],[0,1],linestyle='--')# for a random(dumb) model\n",
        "plt.plot(fpr,tpr,marker='.')\n",
        "plt.title(r\"ROC curve on test data\")\n",
        "plt.xlabel(\"false positive rate\", fontsize=12)\n",
        "plt.ylabel(\"True positive rate\", fontsize=12)\n",
        "plt.show()\n",
        "\n",
        "\n",
        "skplt.plot_confusion_matrix(y_test, np.round(prediction))\n",
        "print(\"macro f1 score for data :\",metrics.f1_score(y_test,  np.round(prediction), average = 'macro'))\n",
        "print(\"micro f1 scoore for data:\",metrics.f1_score(y_test,  np.round(prediction), average = 'micro'))\n",
        "print(\"hamming loss for data:\",metrics.hamming_loss(y_test, np.round(prediction)))\n",
        "print(\"Precision recall report for data:\\n\",metrics.classification_report(y_test,  np.round(prediction)))"
      ],
      "execution_count": 29,
      "outputs": [
        {
          "output_type": "stream",
          "text": [
            "AUC score on test data 0.8957281409602199\n"
          ],
          "name": "stdout"
        },
        {
          "output_type": "display_data",
          "data": {
            "image/png": "[encoded data removed]",
            "text/plain": [
              "<Figure size 432x288 with 1 Axes>"
            ]
          },
          "metadata": {
            "tags": [],
            "needs_background": "light"
          }
        },
        {
          "output_type": "stream",
          "text": [
            "macro f1 score for data : 0.8174206287896313\n",
            "micro f1 scoore for data: 0.9076996302127193\n",
            "hamming loss for data: 0.09230036978728078\n",
            "Precision recall report for data:\n",
            "               precision    recall  f1-score   support\n",
            "\n",
            "           0       0.74      0.65      0.69      8646\n",
            "           1       0.93      0.96      0.95     45980\n",
            "\n",
            "    accuracy                           0.91     54626\n",
            "   macro avg       0.84      0.80      0.82     54626\n",
            "weighted avg       0.90      0.91      0.91     54626\n",
            "\n"
          ],
          "name": "stdout"
        },
        {
          "output_type": "display_data",
          "data": {
            "image/png": "[encoded data removed]",
            "text/plain": [
              "<Figure size 432x288 with 2 Axes>"
            ]
          },
          "metadata": {
            "tags": [],
            "needs_background": "light"
          }
        }
      ]
    },
    {
      "cell_type": "code",
      "metadata": {
        "id": "YZmiF4-YyJQm",
        "colab_type": "code",
        "colab": {
          "base_uri": "https://localhost:8080/",
          "height": 255
        },
        "outputId": "a8ecc777-fdad-4f98-84a6-47d7808f88a3"
      },
      "source": [
        "pip install scikit-plot"
      ],
      "execution_count": 28,
      "outputs": [
        {
          "output_type": "stream",
          "text": [
            "Collecting scikit-plot\n",
            "  Downloading https://files.pythonhosted.org/packages/7c/47/32520e259340c140a4ad27c1b97050dd3254fdc517b1d59974d47037510e/scikit_plot-0.3.7-py3-none-any.whl\n",
            "Requirement already satisfied: scikit-learn>=0.18 in /usr/local/lib/python3.6/dist-packages (from scikit-plot) (0.22.2.post1)\n",
            "Requirement already satisfied: scipy>=0.9 in /usr/local/lib/python3.6/dist-packages (from scikit-plot) (1.4.1)\n",
            "Requirement already satisfied: joblib>=0.10 in /usr/local/lib/python3.6/dist-packages (from scikit-plot) (0.16.0)\n",
            "Requirement already satisfied: matplotlib>=1.4.0 in /usr/local/lib/python3.6/dist-packages (from scikit-plot) (3.2.2)\n",
            "Requirement already satisfied: numpy>=1.11.0 in /usr/local/lib/python3.6/dist-packages (from scikit-learn>=0.18->scikit-plot) (1.18.5)\n",
            "Requirement already satisfied: pyparsing!=2.0.4,!=2.1.2,!=2.1.6,>=2.0.1 in /usr/local/lib/python3.6/dist-packages (from matplotlib>=1.4.0->scikit-plot) (2.4.7)\n",
            "Requirement already satisfied: cycler>=0.10 in /usr/local/lib/python3.6/dist-packages (from matplotlib>=1.4.0->scikit-plot) (0.10.0)\n",
            "Requirement already satisfied: kiwisolver>=1.0.1 in /usr/local/lib/python3.6/dist-packages (from matplotlib>=1.4.0->scikit-plot) (1.2.0)\n",
            "Requirement already satisfied: python-dateutil>=2.1 in /usr/local/lib/python3.6/dist-packages (from matplotlib>=1.4.0->scikit-plot) (2.8.1)\n",
            "Requirement already satisfied: six in /usr/local/lib/python3.6/dist-packages (from cycler>=0.10->matplotlib>=1.4.0->scikit-plot) (1.15.0)\n",
            "Installing collected packages: scikit-plot\n",
            "Successfully installed scikit-plot-0.3.7\n"
          ],
          "name": "stdout"
        }
      ]
    },
    {
      "cell_type": "code",
      "metadata": {
        "id": "OC1FHlnpOBV9",
        "colab_type": "code",
        "colab": {
          "base_uri": "https://localhost:8080/",
          "height": 34
        },
        "outputId": "e027b186-38d2-431b-ad29-e058760d0473"
      },
      "source": [
        ""
      ],
      "execution_count": 33,
      "outputs": [
        {
          "output_type": "execute_result",
          "data": {
            "text/plain": [
              "1.0"
            ]
          },
          "metadata": {
            "tags": []
          },
          "execution_count": 33
        }
      ]
    },
    {
      "cell_type": "code",
      "metadata": {
        "id": "Xoo9E0j5Oam4",
        "colab_type": "code",
        "colab": {}
      },
      "source": [
        ""
      ],
      "execution_count": null,
      "outputs": []
    }
  ]
}