{
  "nbformat": 4,
  "nbformat_minor": 0,
  "metadata": {
    "colab": {
      "name": "template.ipynb",
      "provenance": [],
      "collapsed_sections": [],
      "machine_shape": "hm"
    },
    "kernelspec": {
      "name": "python3",
      "display_name": "Python 3"
    },
    "language_info": {
      "codemirror_mode": {
        "name": "ipython",
        "version": 3
      },
      "file_extension": ".py",
      "mimetype": "text/x-python",
      "name": "python",
      "nbconvert_exporter": "python",
      "pygments_lexer": "ipython3",
      "version": "3.7.1"
    }
  },
  "cells": [
    {
      "cell_type": "markdown",
      "metadata": {
        "id": "6EmXjLRuJDhY",
        "colab_type": "text"
      },
      "source": [
        "# Amazon Fine Food Reviews Analysis\n",
        "\n",
        "The Amazon Fine Food Reviews dataset consists of reviews of fine foods from Amazon.<br>\n",
        "\n",
        "Number of reviews: 568,454<br>\n",
        "Number of users: 256,059<br>\n",
        "Number of products: 74,258<br>\n",
        "Timespan: Oct 1999 - Oct 2012<br>\n",
        "Number of Attributes/Columns in data: 10 \n",
        "\n",
        "Attribute Information:\n",
        "\n",
        "1. Id\n",
        "2. ProductId - unique identifier for the product\n",
        "3. UserId - unqiue identifier for the user\n",
        "4. ProfileName\n",
        "5. HelpfulnessNumerator - number of users who found the review helpful\n",
        "6. HelpfulnessDenominator - number of users who indicated whether they found the review helpful or not\n",
        "7. Score - rating between 1 and 5\n",
        "8. Time - timestamp for the review\n",
        "9. Summary - brief summary of the review\n",
        "10. Text - text of the review\n",
        "\n",
        "\n",
        "#### Objective:\n",
        "Given a review, determine whether the review is positive (rating of 4 or 5) or negative (rating of 1 or 2).\n",
        "\n",
        "We could use Score/Rating. A rating of 4 or 5 can be cosnidered as a positive review. A rating of 1 or 2 can be considered as negative one. A review of rating 3 is considered nuetral and such reviews are ignored from our analysis. This is an approximate and proxy way of determining the polarity (positivity/negativity) of a review.\n",
        "\n",
        "\n"
      ]
    },
    {
      "cell_type": "code",
      "metadata": {
        "colab_type": "code",
        "id": "AU3AZKjfhygN",
        "colab": {}
      },
      "source": [
        "\n",
        "%matplotlib inline\n",
        "import warnings\n",
        "warnings.filterwarnings(\"ignore\")\n",
        "\n",
        "import nltk\n",
        "import string\n",
        "import matplotlib.pyplot as plt\n",
        "import seaborn as sns\n",
        "from sklearn.feature_extraction.text import TfidfTransformer\n",
        "from sklearn.feature_extraction.text import TfidfVectorizer\n",
        "\n",
        "from sklearn.feature_extraction.text import CountVectorizer\n",
        "from sklearn.metrics import confusion_matrix\n",
        "from sklearn import metrics\n",
        "from sklearn.metrics import roc_curve, auc\n",
        "from nltk.stem.porter import PorterStemmer\n",
        "\n",
        "\n",
        "\n",
        "import re\n",
        "\n",
        "import string\n",
        "from nltk.corpus import stopwords\n",
        "from nltk.stem import PorterStemmer\n",
        "from nltk.stem.wordnet import WordNetLemmatizer\n",
        "\n",
        "from gensim.models import Word2Vec\n",
        "from gensim.models import KeyedVectors\n",
        "import pickle\n",
        "\n",
        "from tqdm import tqdm\n",
        "import os\n"
      ],
      "execution_count": 0,
      "outputs": []
    },
    {
      "cell_type": "code",
      "metadata": {
        "id": "bl4zsB2xJcgn",
        "colab_type": "code",
        "outputId": "f4353df4-d05a-4ede-c645-c030c51d0f8f",
        "colab": {
          "base_uri": "https://localhost:8080/",
          "height": 34
        }
      },
      "source": [
        "from google.colab import drive\n",
        "drive.mount('/content/drive')"
      ],
      "execution_count": 0,
      "outputs": [
        {
          "output_type": "stream",
          "text": [
            "Drive already mounted at /content/drive; to attempt to forcibly remount, call drive.mount(\"/content/drive\", force_remount=True).\n"
          ],
          "name": "stdout"
        }
      ]
    },
    {
      "cell_type": "code",
      "metadata": {
        "colab_type": "code",
        "id": "JLfkBRZ_CSIb",
        "outputId": "2fb50c97-e4e7-4670-befb-2a32bb1948be",
        "colab": {
          "base_uri": "https://localhost:8080/",
          "height": 431
        }
      },
      "source": [
        "import numpy as np\n",
        "import pandas as pd\n",
        "\n",
        "filtered_data= pd.read_csv('/content/drive/My Drive/data.csv')\n",
        "\n",
        "#give reviews with score>1 positive rating(1) and reviews with negative rating(0)\n",
        "def partition(x):\n",
        "  if x<3:\n",
        "    return 0\n",
        "  return 1\n",
        "\n",
        "#changing reviews with score less than 3 to be positive and vice-versa\n",
        "actualScore = filtered_data['Score']\n",
        "positiveNegative = actualScore.map(partition) \n",
        "filtered_data['Score'] = positiveNegative\n",
        "print(\"Number of data points in our data\", filtered_data.shape)\n",
        "filtered_data.head(3)"
      ],
      "execution_count": 0,
      "outputs": [
        {
          "output_type": "stream",
          "text": [
            "Number of data points in our data (525814, 11)\n"
          ],
          "name": "stdout"
        },
        {
          "output_type": "execute_result",
          "data": {
            "text/html": [
              "<div>\n",
              "<style scoped>\n",
              "    .dataframe tbody tr th:only-of-type {\n",
              "        vertical-align: middle;\n",
              "    }\n",
              "\n",
              "    .dataframe tbody tr th {\n",
              "        vertical-align: top;\n",
              "    }\n",
              "\n",
              "    .dataframe thead th {\n",
              "        text-align: right;\n",
              "    }\n",
              "</style>\n",
              "<table border=\"1\" class=\"dataframe\">\n",
              "  <thead>\n",
              "    <tr style=\"text-align: right;\">\n",
              "      <th></th>\n",
              "      <th>Unnamed: 0</th>\n",
              "      <th>Id</th>\n",
              "      <th>ProductId</th>\n",
              "      <th>UserId</th>\n",
              "      <th>ProfileName</th>\n",
              "      <th>HelpfulnessNumerator</th>\n",
              "      <th>HelpfulnessDenominator</th>\n",
              "      <th>Score</th>\n",
              "      <th>Time</th>\n",
              "      <th>Summary</th>\n",
              "      <th>Text</th>\n",
              "    </tr>\n",
              "  </thead>\n",
              "  <tbody>\n",
              "    <tr>\n",
              "      <th>0</th>\n",
              "      <td>0</td>\n",
              "      <td>1</td>\n",
              "      <td>B001E4KFG0</td>\n",
              "      <td>A3SGXH7AUHU8GW</td>\n",
              "      <td>delmartian</td>\n",
              "      <td>1</td>\n",
              "      <td>1</td>\n",
              "      <td>1</td>\n",
              "      <td>1303862400</td>\n",
              "      <td>Good Quality Dog Food</td>\n",
              "      <td>I have bought several of the Vitality canned d...</td>\n",
              "    </tr>\n",
              "    <tr>\n",
              "      <th>1</th>\n",
              "      <td>1</td>\n",
              "      <td>2</td>\n",
              "      <td>B00813GRG4</td>\n",
              "      <td>A1D87F6ZCVE5NK</td>\n",
              "      <td>dll pa</td>\n",
              "      <td>0</td>\n",
              "      <td>0</td>\n",
              "      <td>0</td>\n",
              "      <td>1346976000</td>\n",
              "      <td>Not as Advertised</td>\n",
              "      <td>Product arrived labeled as Jumbo Salted Peanut...</td>\n",
              "    </tr>\n",
              "    <tr>\n",
              "      <th>2</th>\n",
              "      <td>2</td>\n",
              "      <td>3</td>\n",
              "      <td>B000LQOCH0</td>\n",
              "      <td>ABXLMWJIXXAIN</td>\n",
              "      <td>Natalia Corres \"Natalia Corres\"</td>\n",
              "      <td>1</td>\n",
              "      <td>1</td>\n",
              "      <td>1</td>\n",
              "      <td>1219017600</td>\n",
              "      <td>\"Delight\" says it all</td>\n",
              "      <td>This is a confection that has been around a fe...</td>\n",
              "    </tr>\n",
              "  </tbody>\n",
              "</table>\n",
              "</div>"
            ],
            "text/plain": [
              "   Unnamed: 0  ...                                               Text\n",
              "0           0  ...  I have bought several of the Vitality canned d...\n",
              "1           1  ...  Product arrived labeled as Jumbo Salted Peanut...\n",
              "2           2  ...  This is a confection that has been around a fe...\n",
              "\n",
              "[3 rows x 11 columns]"
            ]
          },
          "metadata": {
            "tags": []
          },
          "execution_count": 64
        }
      ]
    },
    {
      "cell_type": "code",
      "metadata": {
        "colab_type": "code",
        "id": "LzqYYqBPqSxo",
        "colab": {}
      },
      "source": [
        "filtered_data=filtered_data.drop( 'Unnamed: 0',axis=1) "
      ],
      "execution_count": 0,
      "outputs": []
    },
    {
      "cell_type": "markdown",
      "metadata": {
        "colab_type": "text",
        "id": "Wh5RH-NsDYJJ"
      },
      "source": [
        "# **Text Data Cleaning: Deduplication**\n",
        "\n",
        "It is observed (as shown in the table below) that the reviews data had many duplicate entries. Hence it was necessary to remove duplicates in order to get unbiased results for the analysis of the data.  Following is an example:"
      ]
    },
    {
      "cell_type": "code",
      "metadata": {
        "colab_type": "code",
        "id": "XyE2NiQA5tPK",
        "outputId": "4fcd5ce4-5836-448d-cefb-5ba96ccf838b",
        "colab": {
          "base_uri": "https://localhost:8080/",
          "height": 544
        }
      },
      "source": [
        "filtered_data[(filtered_data['Time']== 1199577600) & (filtered_data['ProfileName'] == \"Geetha Krishnan\")]"
      ],
      "execution_count": 0,
      "outputs": [
        {
          "output_type": "execute_result",
          "data": {
            "text/html": [
              "<div>\n",
              "<style scoped>\n",
              "    .dataframe tbody tr th:only-of-type {\n",
              "        vertical-align: middle;\n",
              "    }\n",
              "\n",
              "    .dataframe tbody tr th {\n",
              "        vertical-align: top;\n",
              "    }\n",
              "\n",
              "    .dataframe thead th {\n",
              "        text-align: right;\n",
              "    }\n",
              "</style>\n",
              "<table border=\"1\" class=\"dataframe\">\n",
              "  <thead>\n",
              "    <tr style=\"text-align: right;\">\n",
              "      <th></th>\n",
              "      <th>Id</th>\n",
              "      <th>ProductId</th>\n",
              "      <th>UserId</th>\n",
              "      <th>ProfileName</th>\n",
              "      <th>HelpfulnessNumerator</th>\n",
              "      <th>HelpfulnessDenominator</th>\n",
              "      <th>Score</th>\n",
              "      <th>Time</th>\n",
              "      <th>Summary</th>\n",
              "      <th>Text</th>\n",
              "    </tr>\n",
              "  </thead>\n",
              "  <tbody>\n",
              "    <tr>\n",
              "      <th>67901</th>\n",
              "      <td>73791</td>\n",
              "      <td>B000HDOPZG</td>\n",
              "      <td>AR5J8UI46CURR</td>\n",
              "      <td>Geetha Krishnan</td>\n",
              "      <td>2</td>\n",
              "      <td>2</td>\n",
              "      <td>1</td>\n",
              "      <td>1199577600</td>\n",
              "      <td>LOACKER QUADRATINI VANILLA WAFERS</td>\n",
              "      <td>DELICIOUS WAFERS. I FIND THAT EUROPEAN WAFERS ...</td>\n",
              "    </tr>\n",
              "    <tr>\n",
              "      <th>72060</th>\n",
              "      <td>78445</td>\n",
              "      <td>B000HDL1RQ</td>\n",
              "      <td>AR5J8UI46CURR</td>\n",
              "      <td>Geetha Krishnan</td>\n",
              "      <td>2</td>\n",
              "      <td>2</td>\n",
              "      <td>1</td>\n",
              "      <td>1199577600</td>\n",
              "      <td>LOACKER QUADRATINI VANILLA WAFERS</td>\n",
              "      <td>DELICIOUS WAFERS. I FIND THAT EUROPEAN WAFERS ...</td>\n",
              "    </tr>\n",
              "    <tr>\n",
              "      <th>127440</th>\n",
              "      <td>138277</td>\n",
              "      <td>B000HDOPYM</td>\n",
              "      <td>AR5J8UI46CURR</td>\n",
              "      <td>Geetha Krishnan</td>\n",
              "      <td>2</td>\n",
              "      <td>2</td>\n",
              "      <td>1</td>\n",
              "      <td>1199577600</td>\n",
              "      <td>LOACKER QUADRATINI VANILLA WAFERS</td>\n",
              "      <td>DELICIOUS WAFERS. I FIND THAT EUROPEAN WAFERS ...</td>\n",
              "    </tr>\n",
              "    <tr>\n",
              "      <th>127478</th>\n",
              "      <td>138317</td>\n",
              "      <td>B000HDOPYC</td>\n",
              "      <td>AR5J8UI46CURR</td>\n",
              "      <td>Geetha Krishnan</td>\n",
              "      <td>2</td>\n",
              "      <td>2</td>\n",
              "      <td>1</td>\n",
              "      <td>1199577600</td>\n",
              "      <td>LOACKER QUADRATINI VANILLA WAFERS</td>\n",
              "      <td>DELICIOUS WAFERS. I FIND THAT EUROPEAN WAFERS ...</td>\n",
              "    </tr>\n",
              "    <tr>\n",
              "      <th>142859</th>\n",
              "      <td>155049</td>\n",
              "      <td>B000PAQ75C</td>\n",
              "      <td>AR5J8UI46CURR</td>\n",
              "      <td>Geetha Krishnan</td>\n",
              "      <td>2</td>\n",
              "      <td>2</td>\n",
              "      <td>1</td>\n",
              "      <td>1199577600</td>\n",
              "      <td>LOACKER QUADRATINI VANILLA WAFERS</td>\n",
              "      <td>DELICIOUS WAFERS. I FIND THAT EUROPEAN WAFERS ...</td>\n",
              "    </tr>\n",
              "  </tbody>\n",
              "</table>\n",
              "</div>"
            ],
            "text/plain": [
              "            Id  ...                                               Text\n",
              "67901    73791  ...  DELICIOUS WAFERS. I FIND THAT EUROPEAN WAFERS ...\n",
              "72060    78445  ...  DELICIOUS WAFERS. I FIND THAT EUROPEAN WAFERS ...\n",
              "127440  138277  ...  DELICIOUS WAFERS. I FIND THAT EUROPEAN WAFERS ...\n",
              "127478  138317  ...  DELICIOUS WAFERS. I FIND THAT EUROPEAN WAFERS ...\n",
              "142859  155049  ...  DELICIOUS WAFERS. I FIND THAT EUROPEAN WAFERS ...\n",
              "\n",
              "[5 rows x 10 columns]"
            ]
          },
          "metadata": {
            "tags": []
          },
          "execution_count": 66
        }
      ]
    },
    {
      "cell_type": "markdown",
      "metadata": {
        "colab_type": "text",
        "id": "xy7aCQUqCN8K"
      },
      "source": [
        "\n",
        "\n",
        "As it can be seen above that same user has multiple reviews with same values for HelpfulnessNumerator, HelpfulnessDenominator, Score, Time, Summary and Text and on doing analysis it was found that\n",
        "\n",
        "ProductId=B000HDOPZG was Loacker Quadratini Vanilla Wafer Cookies, 8.82-Ounce Packages (Pack of 8)\n",
        "\n",
        "ProductId=B000HDL1RQ was Loacker Quadratini Lemon Wafer Cookies, 8.82-Ounce Packages (Pack of 8) and so on\n",
        "\n",
        "It was inferred after analysis that reviews with same parameters other than ProductId belonged to the same product just having different flavour or quantity. Hence in order to reduce redundancy it was decided to eliminate the rows having same parameters.\n",
        "\n",
        "The method used for the same was that we first sort the data according to ProductId and then just keep the first similar product review and delelte the others. for eg. in the above just the review for ProductId=B000HDL1RQ remains. This method ensures that there is only one representative for each product and deduplication without sorting would lead to possibility of different representatives still existing for the same product."
      ]
    },
    {
      "cell_type": "code",
      "metadata": {
        "colab_type": "code",
        "id": "mJmD1KVNELxE",
        "colab": {}
      },
      "source": [
        "#sort the data in ascending order with respect to the product id\n",
        "sorted_data= filtered_data.sort_values('ProductId',axis =0, ascending= True , inplace= False, kind= 'quicksort')"
      ],
      "execution_count": 0,
      "outputs": []
    },
    {
      "cell_type": "code",
      "metadata": {
        "colab_type": "code",
        "id": "o0qhv0jlX5JD",
        "colab": {}
      },
      "source": [
        "#deleting duplicate data\n",
        "final = sorted_data.drop_duplicates(subset ={'UserId','Time', 'Text','ProfileName'}, keep= 'first', inplace= False)"
      ],
      "execution_count": 0,
      "outputs": []
    },
    {
      "cell_type": "code",
      "metadata": {
        "colab_type": "code",
        "id": "bZPcBkAPYvBI",
        "outputId": "a87bf184-505d-4228-90b9-cfe852ea817e",
        "colab": {
          "base_uri": "https://localhost:8080/",
          "height": 34
        }
      },
      "source": [
        "final.shape"
      ],
      "execution_count": 0,
      "outputs": [
        {
          "output_type": "execute_result",
          "data": {
            "text/plain": [
              "(364173, 10)"
            ]
          },
          "metadata": {
            "tags": []
          },
          "execution_count": 69
        }
      ]
    },
    {
      "cell_type": "code",
      "metadata": {
        "colab_type": "code",
        "id": "QucZVUGYYwkq",
        "outputId": "95dfda5d-58d0-4e20-ec6d-90aeb3e7b8b1",
        "colab": {
          "base_uri": "https://localhost:8080/",
          "height": 34
        }
      },
      "source": [
        "#check percentage of data retained\n",
        "(final['Id'].size*1.0 / sorted_data['Id'].size*1.0) *100"
      ],
      "execution_count": 0,
      "outputs": [
        {
          "output_type": "execute_result",
          "data": {
            "text/plain": [
              "69.25890143662969"
            ]
          },
          "metadata": {
            "tags": []
          },
          "execution_count": 70
        }
      ]
    },
    {
      "cell_type": "markdown",
      "metadata": {
        "colab_type": "text",
        "id": "EKh9X664BJL-"
      },
      "source": [
        "It is also observed that for some entries the helpfulness numerator is greater than helpfulness denominator which is completely absurd.\n"
      ]
    },
    {
      "cell_type": "code",
      "metadata": {
        "colab_type": "code",
        "id": "RTjDWfUgBdD3",
        "outputId": "f988313d-19c2-4b71-f4ba-83d38a7e1a27",
        "colab": {
          "base_uri": "https://localhost:8080/",
          "height": 213
        }
      },
      "source": [
        "final[final['HelpfulnessNumerator'] > final['HelpfulnessDenominator']]"
      ],
      "execution_count": 0,
      "outputs": [
        {
          "output_type": "execute_result",
          "data": {
            "text/html": [
              "<div>\n",
              "<style scoped>\n",
              "    .dataframe tbody tr th:only-of-type {\n",
              "        vertical-align: middle;\n",
              "    }\n",
              "\n",
              "    .dataframe tbody tr th {\n",
              "        vertical-align: top;\n",
              "    }\n",
              "\n",
              "    .dataframe thead th {\n",
              "        text-align: right;\n",
              "    }\n",
              "</style>\n",
              "<table border=\"1\" class=\"dataframe\">\n",
              "  <thead>\n",
              "    <tr style=\"text-align: right;\">\n",
              "      <th></th>\n",
              "      <th>Id</th>\n",
              "      <th>ProductId</th>\n",
              "      <th>UserId</th>\n",
              "      <th>ProfileName</th>\n",
              "      <th>HelpfulnessNumerator</th>\n",
              "      <th>HelpfulnessDenominator</th>\n",
              "      <th>Score</th>\n",
              "      <th>Time</th>\n",
              "      <th>Summary</th>\n",
              "      <th>Text</th>\n",
              "    </tr>\n",
              "  </thead>\n",
              "  <tbody>\n",
              "    <tr>\n",
              "      <th>59301</th>\n",
              "      <td>64422</td>\n",
              "      <td>B000MIDROQ</td>\n",
              "      <td>A161DK06JJMCYF</td>\n",
              "      <td>J. E. Stephens \"Jeanne\"</td>\n",
              "      <td>3</td>\n",
              "      <td>1</td>\n",
              "      <td>1</td>\n",
              "      <td>1224892800</td>\n",
              "      <td>Bought This for My Son at College</td>\n",
              "      <td>My son loves spaghetti so I didn't hesitate or...</td>\n",
              "    </tr>\n",
              "    <tr>\n",
              "      <th>41159</th>\n",
              "      <td>44737</td>\n",
              "      <td>B001EQ55RW</td>\n",
              "      <td>A2V0I904FH7ABY</td>\n",
              "      <td>Ram</td>\n",
              "      <td>3</td>\n",
              "      <td>2</td>\n",
              "      <td>1</td>\n",
              "      <td>1212883200</td>\n",
              "      <td>Pure cocoa taste with crunchy almonds inside</td>\n",
              "      <td>It was almost a 'love at first bite' - the per...</td>\n",
              "    </tr>\n",
              "  </tbody>\n",
              "</table>\n",
              "</div>"
            ],
            "text/plain": [
              "          Id  ...                                               Text\n",
              "59301  64422  ...  My son loves spaghetti so I didn't hesitate or...\n",
              "41159  44737  ...  It was almost a 'love at first bite' - the per...\n",
              "\n",
              "[2 rows x 10 columns]"
            ]
          },
          "metadata": {
            "tags": []
          },
          "execution_count": 71
        }
      ]
    },
    {
      "cell_type": "code",
      "metadata": {
        "colab_type": "code",
        "id": "4XY8N9hOBqDL",
        "colab": {}
      },
      "source": [
        "final =final[ final['HelpfulnessNumerator'] <= final['HelpfulnessDenominator']]"
      ],
      "execution_count": 0,
      "outputs": []
    },
    {
      "cell_type": "code",
      "metadata": {
        "colab_type": "code",
        "id": "kiOBVDlSC75O",
        "outputId": "9c9309f6-bff7-4821-afd0-497d7cacb8b2",
        "colab": {
          "base_uri": "https://localhost:8080/",
          "height": 34
        }
      },
      "source": [
        "print(final.shape)"
      ],
      "execution_count": 0,
      "outputs": [
        {
          "output_type": "stream",
          "text": [
            "(364171, 10)\n"
          ],
          "name": "stdout"
        }
      ]
    },
    {
      "cell_type": "markdown",
      "metadata": {
        "colab_type": "text",
        "id": "zuEHPd8_DIHH"
      },
      "source": [
        "# Pre processing"
      ]
    },
    {
      "cell_type": "markdown",
      "metadata": {
        "colab_type": "text",
        "id": "O20c60_0Dmku"
      },
      "source": [
        "Now that we have finished deduplication our data requires some preprocessing before we go on further with analysis and making the prediction model.\n",
        "Hence in the Preprocessing phase we do the following in the order below:-\n",
        "\n",
        "Begin by removing the html tags. \n",
        "Remove any punctuations or limited set of special characters like , or . or # etc.\n",
        "Check if the word is made up of english letters and is not alpha-numeric.\n",
        "Check to see if the length of the word is greater than 2 (as it was researched that there is no adjective in 2-letters).\n",
        "Convert the word to lowercase.\n",
        "Remove Stopwords\n",
        "\n",
        "After which we collect the words used to describe positive and negative reviews"
      ]
    },
    {
      "cell_type": "code",
      "metadata": {
        "colab_type": "code",
        "id": "ByY5-e7rC-tQ",
        "outputId": "7e2fedb3-f6a1-4fe6-8f37-7af384a3d0f6",
        "colab": {
          "base_uri": "https://localhost:8080/",
          "height": 139
        }
      },
      "source": [
        "# print some random reviews\n",
        "rev0 = final['Text'].values[0]\n",
        "print(rev0)\n",
        "print(\"=\"*50)\n",
        "rev1 = final['Text'].values[100]\n",
        "print(rev1)\n",
        "print(\"=\"*50)\n",
        "rev2 = final['Text'].values[1000]\n",
        "print(rev2)\n",
        "print(\"=\"*50)\n",
        "\n"
      ],
      "execution_count": 0,
      "outputs": [
        {
          "output_type": "stream",
          "text": [
            "this witty little book makes my son laugh at loud. i recite it in the car as we're driving along and he always can sing the refrain. he's learned about whales, India, drooping roses:  i love all the new words this book  introduces and the silliness of it all.  this is a classic book i am  willing to bet my son will STILL be able to recite from memory when he is  in college\n",
            "==================================================\n",
            "Pros:<br />Dog will do anything for this treat.<br />Doesn't smell as bad as many other treats.<br />Easy to break into smaller pieces.<br />Nothing artificial, easy digestion.<br /><br />Cons:<br />More costly than other dog treats.<br /><br />Overall, this is a great product. While more expensive, my dog will do anything for this treat. He has several phobias, including getting in and out of the car, and walking through doorways, but he ignores all of his fears to get to this treat.\n",
            "==================================================\n",
            "I was really looking forward to these pods based on the reviews.  Starbucks is good, but I prefer bolder taste.... imagine my surprise when I ordered 2 boxes - both were expired! One expired back in 2005 for gosh sakes.  I admit that Amazon agreed to credit me for cost plus part of shipping, but geez, 2 years expired!!!  I'm hoping to find local San Diego area shoppe that carries pods so that I can try something different than starbucks.\n",
            "==================================================\n"
          ],
          "name": "stdout"
        }
      ]
    },
    {
      "cell_type": "code",
      "metadata": {
        "colab_type": "code",
        "id": "6F1MHO86EcOG",
        "colab": {}
      },
      "source": [
        "def decontracted(phrase):\n",
        "    # specific\n",
        "    phrase = re.sub(r\"won't\", \"will not\", phrase)\n",
        "    phrase = re.sub(r\"can\\'t\", \"can not\", phrase)\n",
        "\n",
        "    # general\n",
        "    phrase = re.sub(r\"n\\'t\", \" not\", phrase)\n",
        "    phrase = re.sub(r\"\\'re\", \" are\", phrase)\n",
        "    phrase = re.sub(r\"\\'s\", \" is\", phrase)\n",
        "    phrase = re.sub(r\"\\'d\", \" would\", phrase)\n",
        "    phrase = re.sub(r\"\\'ll\", \" will\", phrase)\n",
        "    phrase = re.sub(r\"\\'t\", \" not\", phrase)\n",
        "    phrase = re.sub(r\"\\'ve\", \" have\", phrase)\n",
        "    phrase = re.sub(r\"\\'m\", \" am\", phrase)\n",
        "    return phrase"
      ],
      "execution_count": 0,
      "outputs": []
    },
    {
      "cell_type": "code",
      "metadata": {
        "colab_type": "code",
        "id": "8EAfaHhaGIEt",
        "outputId": "f64088f2-8ccf-47dc-c9fe-64c1198dd789",
        "colab": {
          "base_uri": "https://localhost:8080/",
          "height": 88
        }
      },
      "source": [
        "print(rev0)\n",
        "rev0 = decontracted(rev0)\n",
        "print(rev0)\n",
        "print(\"=\"*50)"
      ],
      "execution_count": 0,
      "outputs": [
        {
          "output_type": "stream",
          "text": [
            "this witty little book makes my son laugh at loud. i recite it in the car as we're driving along and he always can sing the refrain. he's learned about whales, India, drooping roses:  i love all the new words this book  introduces and the silliness of it all.  this is a classic book i am  willing to bet my son will STILL be able to recite from memory when he is  in college\n",
            "this witty little book makes my son laugh at loud. i recite it in the car as we are driving along and he always can sing the refrain. he is learned about whales, India, drooping roses:  i love all the new words this book  introduces and the silliness of it all.  this is a classic book i am  willing to bet my son will STILL be able to recite from memory when he is  in college\n",
            "==================================================\n"
          ],
          "name": "stdout"
        }
      ]
    },
    {
      "cell_type": "code",
      "metadata": {
        "colab_type": "code",
        "id": "CYzi7HknGSJ3",
        "colab": {}
      },
      "source": [
        "# we are removing the words from the stop words list: 'no', 'nor', 'not'\n",
        "# <br /><br /> ==> after the above steps, we are getting \"br br\"\n",
        "# we are including them into stop words list\n",
        "# instead of <br /> if we have <br/> these tags would have revmoved in the 1st step\n",
        "\n",
        "stopwords= set(['br', 'the', 'i', 'me', 'my', 'myself', 'we', 'our', 'ours', 'ourselves', 'you', \"you're\", \"you've\",\\\n",
        "            \"you'll\", \"you'd\", 'your', 'yours', 'yourself', 'yourselves', 'he', 'him', 'his', 'himself', \\\n",
        "            'she', \"she's\", 'her', 'hers', 'herself', 'it', \"it's\", 'its', 'itself', 'they', 'them', 'their',\\\n",
        "            'theirs', 'themselves', 'what', 'which', 'who', 'whom', 'this', 'that', \"that'll\", 'these', 'those', \\\n",
        "            'am', 'is', 'are', 'was', 'were', 'be', 'been', 'being', 'have', 'has', 'had', 'having', 'do', 'does', \\\n",
        "            'did', 'doing', 'a', 'an', 'the', 'and', 'but', 'if', 'or', 'because', 'as', 'until', 'while', 'of', \\\n",
        "            'at', 'by', 'for', 'with', 'about', 'against', 'between', 'into', 'through', 'during', 'before', 'after',\\\n",
        "            'above', 'below', 'to', 'from', 'up', 'down', 'in', 'out', 'on', 'off', 'over', 'under', 'again', 'further',\\\n",
        "            'then', 'once', 'here', 'there', 'when', 'where', 'why', 'how', 'all', 'any', 'both', 'each', 'few', 'more',\\\n",
        "            'most', 'other', 'some', 'such', 'only', 'own', 'same', 'so', 'than', 'too', 'very', \\\n",
        "            's', 't', 'can', 'will', 'just', 'don', \"don't\", 'should', \"should've\", 'now', 'd', 'll', 'm', 'o', 're', \\\n",
        "            've', 'y', 'ain', 'aren', \"aren't\", 'couldn', \"couldn't\", 'didn', \"didn't\", 'doesn', \"doesn't\", 'hadn',\\\n",
        "            \"hadn't\", 'hasn', \"hasn't\", 'haven', \"haven't\", 'isn', \"isn't\", 'ma', 'mightn', \"mightn't\", 'mustn',\\\n",
        "            \"mustn't\", 'needn', \"needn't\", 'shan', \"shan't\", 'shouldn', \"shouldn't\", 'wasn', \"wasn't\", 'weren', \"weren't\", \\\n",
        "            'won', \"won't\", 'wouldn', \"wouldn't\"])"
      ],
      "execution_count": 0,
      "outputs": []
    },
    {
      "cell_type": "code",
      "metadata": {
        "colab_type": "code",
        "id": "81sOl3nqGsQj",
        "outputId": "ffa72c70-cb62-4963-ddf3-89e8ea990c02",
        "colab": {
          "base_uri": "https://localhost:8080/",
          "height": 34
        }
      },
      "source": [
        "from bs4 import BeautifulSoup\n",
        "from tqdm import tqdm\n",
        "preprocessed_reviews = []\n",
        "# tqdm is for printing the status bar\n",
        "for sentance in tqdm(final['Text'].values):\n",
        "    sentance = re.sub(r\"http\\S+\", \"\", sentance)\n",
        "    sentance = BeautifulSoup(sentance, 'lxml').get_text()\n",
        "    sentance = decontracted(sentance)\n",
        "    sentance = re.sub(\"\\S*\\d\\S*\", \"\", sentance).strip()\n",
        "    sentance = re.sub('[^A-Za-z]+', ' ', sentance)\n",
        "   \n",
        "    sentance = ' '.join(e.lower() for e in sentance.split() if e.lower() not in stopwords)\n",
        "    preprocessed_reviews.append(sentance.strip())"
      ],
      "execution_count": 0,
      "outputs": [
        {
          "output_type": "stream",
          "text": [
            "100%|██████████| 364171/364171 [01:43<00:00, 3535.02it/s]\n"
          ],
          "name": "stderr"
        }
      ]
    },
    {
      "cell_type": "code",
      "metadata": {
        "colab_type": "code",
        "id": "Evv-DxSdHEUV",
        "outputId": "466ea058-deb9-4796-e232-bf60ea1cf19e",
        "colab": {
          "base_uri": "https://localhost:8080/",
          "height": 54
        }
      },
      "source": [
        "preprocessed_reviews[100]\n"
      ],
      "execution_count": 0,
      "outputs": [
        {
          "output_type": "execute_result",
          "data": {
            "text/plain": [
              "'pros dog anything treat not smell bad many treats easy break smaller pieces nothing artificial easy digestion cons costly dog treats overall great product expensive dog anything treat several phobias including getting car walking doorways ignores fears get treat'"
            ]
          },
          "metadata": {
            "tags": []
          },
          "execution_count": 79
        }
      ]
    },
    {
      "cell_type": "markdown",
      "metadata": {
        "id": "8j6iMz4tMsqN",
        "colab_type": "text"
      },
      "source": [
        ""
      ]
    },
    {
      "cell_type": "code",
      "metadata": {
        "id": "BTQ8avHSMtSt",
        "colab_type": "code",
        "outputId": "4664f434-d1e8-4f2c-e497-78811598c94c",
        "colab": {
          "base_uri": "https://localhost:8080/",
          "height": 68
        }
      },
      "source": [
        "from sklearn.model_selection import train_test_split\n",
        "X_train, X_1, y_train, y_1 = train_test_split(preprocessed_reviews, final['Score'], test_size=0.30, random_state=0)\n",
        "X_cv, X_test,y_cv,y_test= train_test_split(X_1,y_1 ,test_size=0.50, random_state=0)\n",
        "print(\"size of training data\", len(X_train))\n",
        "print(\"size of cross validation data\", len(X_cv))\n",
        "print(\"size of test data\", len(X_test))\n",
        "del(preprocessed_reviews)\n",
        "del(final) "
      ],
      "execution_count": 0,
      "outputs": [
        {
          "output_type": "stream",
          "text": [
            "size of training data 254919\n",
            "size of cross validation data 54626\n",
            "size of test data 54626\n"
          ],
          "name": "stdout"
        }
      ]
    },
    {
      "cell_type": "markdown",
      "metadata": {
        "colab_type": "text",
        "id": "pDAnGvyFK2eD"
      },
      "source": [
        "# Featurization"
      ]
    },
    {
      "cell_type": "markdown",
      "metadata": {
        "colab_type": "text",
        "id": "xMkwe1o-LbgJ"
      },
      "source": [
        "## Bag of Words"
      ]
    },
    {
      "cell_type": "code",
      "metadata": {
        "id": "NOiz0hprNOLM",
        "colab_type": "code",
        "outputId": "787ed620-00eb-4572-e831-0be4cbc36aa6",
        "colab": {
          "base_uri": "https://localhost:8080/",
          "height": 156
        }
      },
      "source": [
        "##vectorization of training data\n",
        "count_vec= CountVectorizer(min_df=10)\n",
        "count_vec.fit(X_train)\n",
        "print(\"Some features\" , count_vec.get_feature_names()[56:70])\n",
        "print('.'*50)\n",
        "bow_train = count_vec.transform(X_train)\n",
        "print(type(bow_train))\n",
        "print(\"the shape of out text BOW vectorizer of training set\",bow_train.get_shape())\n",
        "print(\"the number of unique words \", bow_train.get_shape()[1])\n",
        "##vectorization of cross validation data and training set\n",
        "\n",
        "bow_cv= count_vec.transform(X_cv)\n",
        "print(\"the shape of out text BOW vectorizer of cross validation \",bow_cv.get_shape())\n",
        "bow_test=count_vec.transform(X_test)\n",
        "print(\"the shape of out text BOW vectorizer of test set \",bow_test.get_shape())"
      ],
      "execution_count": 0,
      "outputs": [
        {
          "output_type": "stream",
          "text": [
            "Some features ['accented', 'accents', 'accentuate', 'accept', 'acceptable', 'acceptance', 'accepted', 'accepting', 'accepts', 'access', 'accessible', 'accessories', 'accessory', 'accident']\n",
            "..................................................\n",
            "<class 'scipy.sparse.csr.csr_matrix'>\n",
            "the shape of out text BOW vectorizer of training set (254919, 19388)\n",
            "the number of unique words  19388\n",
            "the shape of out text BOW vectorizer of cross validation  (54626, 19388)\n",
            "the shape of out text BOW vectorizer of test set  (54626, 19388)\n"
          ],
          "name": "stdout"
        }
      ]
    },
    {
      "cell_type": "code",
      "metadata": {
        "id": "KVTClRJzBXvM",
        "colab_type": "code",
        "colab": {}
      },
      "source": [
        "# noramalizing the data\n",
        "from sklearn import preprocessing\n",
        "from sklearn.preprocessing import Normalizer\n",
        "bow_train = preprocessing.normalize(bow_train)\n",
        "bow_cv = preprocessing.normalize(bow_cv)\n",
        "bow_test= preprocessing.normalize(bow_test)"
      ],
      "execution_count": 0,
      "outputs": []
    },
    {
      "cell_type": "markdown",
      "metadata": {
        "colab_type": "text",
        "id": "waDl59NdSEnh"
      },
      "source": [
        "## Tf-Idf"
      ]
    },
    {
      "cell_type": "code",
      "metadata": {
        "colab_type": "code",
        "id": "La8K8GN3QSEM",
        "outputId": "c3d96b73-e07b-4dd4-e0bb-51f06f6ea866",
        "colab": {
          "base_uri": "https://localhost:8080/",
          "height": 119
        }
      },
      "source": [
        "tf_idf_vec= TfidfVectorizer(ngram_range=(1,2),min_df=10)\n",
        "tf_idf_vec.fit(X_train)\n",
        "print(\"Some unique features\", tf_idf_vec.get_feature_names()[:10])\n",
        "\n",
        "tfidf_train= tf_idf_vec.transform(X_train)\n",
        "print(\"the type of count vectorizer \",type(tfidf_train))\n",
        "print(\"the shape of out text TFIDF vectorizer train \",tfidf_train.get_shape())\n",
        "print(\"the number of unique words including both unigrams and bigrams \", tfidf_train.get_shape()[1])\n",
        "\n",
        "\n",
        "tfidf_cv= tf_idf_vec.transform(X_cv)\n",
        "print(\"the shape of out text TFIDF vectorizer cv\",tfidf_cv.get_shape())\n",
        "tfidf_test= tf_idf_vec.transform(X_test)\n",
        "print(\"the shape of out text TFIDF vectorizer test\",tfidf_test.get_shape())\n"
      ],
      "execution_count": 0,
      "outputs": [
        {
          "output_type": "stream",
          "text": [
            "Some unique features ['aa', 'aaa', 'aafco', 'ab', 'aback', 'abandon', 'abandoned', 'abbey', 'abby', 'abc']\n",
            "the type of count vectorizer  <class 'scipy.sparse.csr.csr_matrix'>\n",
            "the shape of out text TFIDF vectorizer train  (254919, 144520)\n",
            "the number of unique words including both unigrams and bigrams  144520\n",
            "the shape of out text TFIDF vectorizer cv (54626, 144520)\n",
            "the shape of out text TFIDF vectorizer test (54626, 144520)\n"
          ],
          "name": "stdout"
        }
      ]
    },
    {
      "cell_type": "code",
      "metadata": {
        "colab_type": "code",
        "id": "Yi8ORu6kTjda",
        "colab": {}
      },
      "source": [
        " # noramalizing the data\n",
        "from sklearn import preprocessing\n",
        "from sklearn.preprocessing import Normalizer\n",
        "tfidf_train = preprocessing.normalize(tfidf_train)\n",
        "tfidf_cv = preprocessing.normalize(tfidf_cv)\n",
        "tfidf_test= preprocessing.normalize(tfidf_test)"
      ],
      "execution_count": 0,
      "outputs": []
    },
    {
      "cell_type": "markdown",
      "metadata": {
        "colab_type": "text",
        "id": "3cFW6po2anpW"
      },
      "source": [
        "#Naive bayes with simple cross validation "
      ]
    },
    {
      "cell_type": "code",
      "metadata": {
        "colab_type": "code",
        "id": "yK9vpn53YJFC",
        "colab": {}
      },
      "source": [
        "%matplotlib inline\n",
        "import warnings\n",
        "warnings.filterwarnings(\"ignore\")\n",
        "from sklearn.model_selection import cross_val_score\n",
        "from collections import Counter\n",
        "from sklearn.metrics import accuracy_score\n",
        "from sklearn import model_selection\n",
        "from sklearn.metrics import f1_score\n",
        "from sklearn.metrics import roc_auc_score\n",
        "from sklearn.naive_bayes import MultinomialNB"
      ],
      "execution_count": 0,
      "outputs": []
    },
    {
      "cell_type": "markdown",
      "metadata": {
        "colab_type": "text",
        "id": "AtQldxJcyDpP"
      },
      "source": [
        "## Training the model "
      ]
    },
    {
      "cell_type": "code",
      "metadata": {
        "colab_type": "code",
        "id": "kxSjg9joYTv_",
        "colab": {}
      },
      "source": [
        "def NB(X_train, X_cv,y_train, y_cv):\n",
        " best_alpha= 0\n",
        " max_roc_auc= -1\n",
        " alphas=[10000,5000,1000,500,100,50,10,5,1,0.5,0.1,0.05,0.01,0.005,0.001,0.0005,0.0001,0.00005,0.00001]\n",
        " roc_auc_train=[]\n",
        " roc_auc_cv=[]\n",
        " probs=[] # probability values for best alpha\n",
        " for i in alphas[-19:]:\n",
        "    clf= MultinomialNB(alpha=i)\n",
        "    clf.fit(X_train,y_train)\n",
        "    pred_train= clf.predict_proba(X_train)\n",
        "    pred_cv= clf.predict_proba(X_cv)\n",
        "    auc_score_train= roc_auc_score(y_train,pred_train[:,1])\n",
        "    auc_score_cv= roc_auc_score(y_cv,pred_cv[:,1])\n",
        "    print(i,\"------>\",auc_score_cv)\n",
        "    roc_auc_train.append( auc_score_train)\n",
        "    roc_auc_cv.append( auc_score_cv)\n",
        "    if(auc_score_cv>max_roc_auc):\n",
        "      max_roc_auc= auc_score_cv\n",
        "      best_alpha= i\n",
        "      probs=pred_cv\n",
        " print(best_alpha, \" is the best value of alpha with an roc_auc score of \", max_roc_auc)\n",
        " sns.set_style(\"darkgrid\")\n",
        " plt.xscale(\"log\")\n",
        " plt.plot(alphas,roc_auc_train,'r-', label=\"training data\")\n",
        " plt.plot(alphas,roc_auc_cv,'g-', label=\"Cv data\")\n",
        " plt.legend(loc='upper right')\n",
        " plt.title(r'Auc Score v/s $alpha$')\n",
        " plt.xlabel(r\"$alpha$\", fontsize= 12)\n",
        " plt.xlabel(\"auc value\", fontsize= 12)\n",
        " plt.show()\n",
        " #for roc curve\n",
        " fpr, tpr, thresholds = metrics.roc_curve(y_cv,probs[:,1])\n",
        " plt.plot([0,1],[0,1],linestyle='--')# for a random(dumb) model\n",
        " plt.plot(fpr,tpr,marker='.')\n",
        " plt.title(r\"ROC curve on cv data with best $aplha$ \")\n",
        " plt.xlabel(\"false positive rate\", fontsize=12)\n",
        " plt.ylabel(\"True positive rate\", fontsize=12)\n",
        " plt.show()\n",
        " return best_alpha"
      ],
      "execution_count": 0,
      "outputs": []
    },
    {
      "cell_type": "markdown",
      "metadata": {
        "id": "LPQbgzKuyTmc",
        "colab_type": "text"
      },
      "source": [
        "##Testing the model"
      ]
    },
    {
      "cell_type": "code",
      "metadata": {
        "colab_type": "code",
        "id": "vKWvyg2ca00s",
        "colab": {}
      },
      "source": [
        "import scikitplot.metrics as skplt\n",
        "def testing(X_train, X_test,y_train, y_test,optimal_alpha):\n",
        "  clf= MultinomialNB(alpha= optimal_alpha)\n",
        "  clf.fit(X_train,y_train)\n",
        "  probs= clf.predict_proba(X_test)\n",
        "  probs= probs[:,1] #keeping probabilities of positive classes only\n",
        "  print(\"AUC score on test data\", roc_auc_score(y_test,probs))\n",
        "  #plotting the roc curve\n",
        "  fpr, tpr, thresholds= metrics.roc_curve(y_test, probs)\n",
        "  plt.plot([0,1],[0,1],linestyle='--')# for a random(dumb) model\n",
        "  plt.plot(fpr,tpr,marker='.')\n",
        "  plt.title(r\"ROC curve on test data with best $aplha$ \")\n",
        "  plt.xlabel(\"false positive rate\", fontsize=12)\n",
        "  plt.ylabel(\"True positive rate\", fontsize=12)\n",
        "  plt.show()\n",
        "  prediction = clf.predict(X_test)\n",
        "  skplt.plot_confusion_matrix(y_test,prediction)\n",
        "  print(\"macro f1 score for data :\",metrics.f1_score(y_test, prediction, average = 'macro'))\n",
        "  print(\"micro f1 scoore for data:\",metrics.f1_score(y_test, prediction, average = 'micro'))\n",
        "  print(\"hamming loss for data:\",metrics.hamming_loss(y_test,prediction))\n",
        "  print(\"Precision recall report for data:\\n\",metrics.classification_report(y_test, prediction))\n"
      ],
      "execution_count": 0,
      "outputs": []
    },
    {
      "cell_type": "markdown",
      "metadata": {
        "id": "5tjdwaIoY5tn",
        "colab_type": "text"
      },
      "source": [
        "##Important features"
      ]
    },
    {
      "cell_type": "code",
      "metadata": {
        "colab_type": "code",
        "id": "J5zt56yreL-t",
        "colab": {}
      },
      "source": [
        "def impFeatures(model,clf):\n",
        "  neg= clf.feature_log_prob_[0,:].argsort()\n",
        "  pos= clf.feature_log_prob_[1,:].argsort()\n",
        "  top_pos_words= np.take(model.get_feature_names(),pos)\n",
        "  top_neg_words= np.take(model.get_feature_names(),neg)\n",
        "  imp_df= pd.DataFrame(columns={'Positive word'})#'Positive importance','Negative word','Negative importance'})\n",
        "  imp_df[\"Positive word\"]= top_pos_words[::-1]\n",
        "  imp_df[\"Positive importance\"]= np.take(clf.feature_log_prob_[1,:],pos)[::-1]\n",
        "  imp_df[\"Negative word\"]= top_neg_words[::-1]\n",
        "  imp_df[\"Negative importance\"]= np.take(clf.feature_log_prob_[0,:],neg)[::-1]\n",
        "  return imp_df"
      ],
      "execution_count": 0,
      "outputs": []
    },
    {
      "cell_type": "markdown",
      "metadata": {
        "colab_type": "text",
        "id": "2mrfbJ2Osp0a"
      },
      "source": [
        "##Implementation  on Bag of Words"
      ]
    },
    {
      "cell_type": "code",
      "metadata": {
        "colab_type": "code",
        "id": "sLBBcnjk05Ki",
        "colab": {
          "base_uri": "https://localhost:8080/",
          "height": 927
        },
        "outputId": "7340c81c-8391-4569-a08c-40d363d10144"
      },
      "source": [
        "#training the model\n",
        "optimal_alpha= NB(bow_train,bow_cv,y_train,y_cv)"
      ],
      "execution_count": 153,
      "outputs": [
        {
          "output_type": "stream",
          "text": [
            "10000 ------> 0.554511306338763\n",
            "5000 ------> 0.5843486621875942\n",
            "1000 ------> 0.6502324654949865\n",
            "500 ------> 0.6752421662312907\n",
            "100 ------> 0.7465587752776\n",
            "50 ------> 0.7933178663750158\n",
            "10 ------> 0.9045776169903553\n",
            "5 ------> 0.9258737830401182\n",
            "1 ------> 0.9413325655208777\n",
            "0.5 ------> 0.9435453877836097\n",
            "0.1 ------> 0.9449890887506076\n",
            "0.05 ------> 0.9448659594376156\n",
            "0.01 ------> 0.9440347476797173\n",
            "0.005 ------> 0.9435486434916092\n",
            "0.001 ------> 0.9422264402008287\n",
            "0.0005 ------> 0.9416036391481896\n",
            "0.0001 ------> 0.940094589489178\n",
            "5e-05 ------> 0.939429966080642\n",
            "1e-05 ------> 0.9378826322209028\n",
            "0.1  is the best value of alpha with an roc_auc score of  0.9449890887506076\n"
          ],
          "name": "stdout"
        },
        {
          "output_type": "display_data",
          "data": {
            "image/png": "[encoded data removed]",
            "text/plain": [
              "<Figure size 432x288 with 1 Axes>"
            ]
          },
          "metadata": {
            "tags": []
          }
        },
        {
          "output_type": "display_data",
          "data": {
            "image/png": "[encoded data removed]",
            "text/plain": [
              "<Figure size 432x288 with 1 Axes>"
            ]
          },
          "metadata": {
            "tags": []
          }
        }
      ]
    },
    {
      "cell_type": "code",
      "metadata": {
        "colab_type": "code",
        "id": "Y8eEuICreeku",
        "colab": {
          "base_uri": "https://localhost:8080/",
          "height": 816
        },
        "outputId": "4639c7ec-68a2-4ffc-8ec4-26083a9ae94e"
      },
      "source": [
        "#testing the model\n",
        "testing(bow_train, bow_test,y_train, y_test,optimal_alpha)"
      ],
      "execution_count": 154,
      "outputs": [
        {
          "output_type": "stream",
          "text": [
            "AUC score on test data 0.9448606764831625\n"
          ],
          "name": "stdout"
        },
        {
          "output_type": "display_data",
          "data": {
            "image/png": "[encoded data removed]",
            "text/plain": [
              "<Figure size 432x288 with 1 Axes>"
            ]
          },
          "metadata": {
            "tags": []
          }
        },
        {
          "output_type": "stream",
          "text": [
            "macro f1 score for data : 0.6648803679913108\n",
            "micro f1 scoore for data: 0.8781532603522132\n",
            "hamming loss for data: 0.12184673964778676\n",
            "Precision recall report for data:\n",
            "               precision    recall  f1-score   support\n",
            "\n",
            "           0       0.91      0.25      0.40      8646\n",
            "           1       0.88      1.00      0.93     45980\n",
            "\n",
            "    accuracy                           0.88     54626\n",
            "   macro avg       0.90      0.62      0.66     54626\n",
            "weighted avg       0.88      0.88      0.85     54626\n",
            "\n"
          ],
          "name": "stdout"
        },
        {
          "output_type": "display_data",
          "data": {
            "image/png": "[encoded data removed]",
            "text/plain": [
              "<Figure size 432x288 with 2 Axes>"
            ]
          },
          "metadata": {
            "tags": []
          }
        }
      ]
    },
    {
      "cell_type": "code",
      "metadata": {
        "colab_type": "code",
        "id": "Zh0h476x7mVJ",
        "colab": {
          "base_uri": "https://localhost:8080/",
          "height": 359
        },
        "outputId": "333365fa-a19d-468f-9eb7-71436019111f"
      },
      "source": [
        "clf= MultinomialNB(alpha=optimal_alpha)\n",
        "clf.fit(bow_train,y_train)\n",
        "imp_df=impFeatures(count_vec,clf)\n",
        "imp_df.head(10)"
      ],
      "execution_count": 181,
      "outputs": [
        {
          "output_type": "execute_result",
          "data": {
            "text/html": [
              "<div>\n",
              "<style scoped>\n",
              "    .dataframe tbody tr th:only-of-type {\n",
              "        vertical-align: middle;\n",
              "    }\n",
              "\n",
              "    .dataframe tbody tr th {\n",
              "        vertical-align: top;\n",
              "    }\n",
              "\n",
              "    .dataframe thead th {\n",
              "        text-align: right;\n",
              "    }\n",
              "</style>\n",
              "<table border=\"1\" class=\"dataframe\">\n",
              "  <thead>\n",
              "    <tr style=\"text-align: right;\">\n",
              "      <th></th>\n",
              "      <th>Positive word</th>\n",
              "      <th>Positive importance</th>\n",
              "      <th>Negative word</th>\n",
              "      <th>Negative importance</th>\n",
              "    </tr>\n",
              "  </thead>\n",
              "  <tbody>\n",
              "    <tr>\n",
              "      <th>0</th>\n",
              "      <td>not</td>\n",
              "      <td>-3.742774</td>\n",
              "      <td>not</td>\n",
              "      <td>-3.191045</td>\n",
              "    </tr>\n",
              "    <tr>\n",
              "      <th>1</th>\n",
              "      <td>great</td>\n",
              "      <td>-4.462724</td>\n",
              "      <td>like</td>\n",
              "      <td>-4.319836</td>\n",
              "    </tr>\n",
              "    <tr>\n",
              "      <th>2</th>\n",
              "      <td>good</td>\n",
              "      <td>-4.511766</td>\n",
              "      <td>product</td>\n",
              "      <td>-4.557148</td>\n",
              "    </tr>\n",
              "    <tr>\n",
              "      <th>3</th>\n",
              "      <td>like</td>\n",
              "      <td>-4.538338</td>\n",
              "      <td>taste</td>\n",
              "      <td>-4.574373</td>\n",
              "    </tr>\n",
              "    <tr>\n",
              "      <th>4</th>\n",
              "      <td>love</td>\n",
              "      <td>-4.811560</td>\n",
              "      <td>would</td>\n",
              "      <td>-4.619378</td>\n",
              "    </tr>\n",
              "    <tr>\n",
              "      <th>5</th>\n",
              "      <td>product</td>\n",
              "      <td>-4.874661</td>\n",
              "      <td>one</td>\n",
              "      <td>-4.842359</td>\n",
              "    </tr>\n",
              "    <tr>\n",
              "      <th>6</th>\n",
              "      <td>taste</td>\n",
              "      <td>-4.881829</td>\n",
              "      <td>good</td>\n",
              "      <td>-5.019567</td>\n",
              "    </tr>\n",
              "    <tr>\n",
              "      <th>7</th>\n",
              "      <td>one</td>\n",
              "      <td>-4.889562</td>\n",
              "      <td>flavor</td>\n",
              "      <td>-5.067688</td>\n",
              "    </tr>\n",
              "    <tr>\n",
              "      <th>8</th>\n",
              "      <td>flavor</td>\n",
              "      <td>-4.987896</td>\n",
              "      <td>no</td>\n",
              "      <td>-5.086001</td>\n",
              "    </tr>\n",
              "    <tr>\n",
              "      <th>9</th>\n",
              "      <td>coffee</td>\n",
              "      <td>-5.000973</td>\n",
              "      <td>coffee</td>\n",
              "      <td>-5.114900</td>\n",
              "    </tr>\n",
              "  </tbody>\n",
              "</table>\n",
              "</div>"
            ],
            "text/plain": [
              "  Positive word  Positive importance Negative word  Negative importance\n",
              "0           not            -3.742774           not            -3.191045\n",
              "1         great            -4.462724          like            -4.319836\n",
              "2          good            -4.511766       product            -4.557148\n",
              "3          like            -4.538338         taste            -4.574373\n",
              "4          love            -4.811560         would            -4.619378\n",
              "5       product            -4.874661           one            -4.842359\n",
              "6         taste            -4.881829          good            -5.019567\n",
              "7           one            -4.889562        flavor            -5.067688\n",
              "8        flavor            -4.987896            no            -5.086001\n",
              "9        coffee            -5.000973        coffee            -5.114900"
            ]
          },
          "metadata": {
            "tags": []
          },
          "execution_count": 181
        }
      ]
    },
    {
      "cell_type": "markdown",
      "metadata": {
        "colab_type": "text",
        "id": "_N8zPd2r2C8A"
      },
      "source": [
        "##implementation of Tf-Idf"
      ]
    },
    {
      "cell_type": "code",
      "metadata": {
        "colab_type": "code",
        "id": "Dwjqxry8xLBc",
        "colab": {
          "base_uri": "https://localhost:8080/",
          "height": 927
        },
        "outputId": "096e199d-9d18-4299-97e5-099be050cc54"
      },
      "source": [
        "#training the model\n",
        "optimal_alpha= NB(tfidf_train,tfidf_cv,y_train,y_cv)"
      ],
      "execution_count": 182,
      "outputs": [
        {
          "output_type": "stream",
          "text": [
            "10000 ------> 0.6130564235405059\n",
            "5000 ------> 0.6214197397126769\n",
            "1000 ------> 0.6503387538954919\n",
            "500 ------> 0.6656603326199247\n",
            "100 ------> 0.7135305961009939\n",
            "50 ------> 0.7447287824128963\n",
            "10 ------> 0.8601849842848286\n",
            "5 ------> 0.9143191013424807\n",
            "1 ------> 0.9592747723057816\n",
            "0.5 ------> 0.9613160810466317\n",
            "0.1 ------> 0.9613566122154673\n",
            "0.05 ------> 0.960331987192645\n",
            "0.01 ------> 0.956505415635725\n",
            "0.005 ------> 0.9543886935005952\n",
            "0.001 ------> 0.9486637566891339\n",
            "0.0005 ------> 0.9459431473743283\n",
            "0.0001 ------> 0.9392984919668986\n",
            "5e-05 ------> 0.9363688692247487\n",
            "1e-05 ------> 0.9295704364645773\n",
            "0.1  is the best value of alpha with an roc_auc score of  0.9613566122154673\n"
          ],
          "name": "stdout"
        },
        {
          "output_type": "display_data",
          "data": {
            "image/png": "[encoded data removed]",
            "text/plain": [
              "<Figure size 432x288 with 1 Axes>"
            ]
          },
          "metadata": {
            "tags": []
          }
        },
        {
          "output_type": "display_data",
          "data": {
            "image/png": "[encoded data removed]",
            "text/plain": [
              "<Figure size 432x288 with 1 Axes>"
            ]
          },
          "metadata": {
            "tags": []
          }
        }
      ]
    },
    {
      "cell_type": "code",
      "metadata": {
        "colab_type": "code",
        "id": "6himChGo2Dgs",
        "colab": {
          "base_uri": "https://localhost:8080/",
          "height": 816
        },
        "outputId": "0332a189-5767-4f1c-e274-e9f2df4f1295"
      },
      "source": [
        "#testing the model\n",
        "testing(tfidf_train, tfidf_test,y_train, y_test,optimal_alpha)"
      ],
      "execution_count": 183,
      "outputs": [
        {
          "output_type": "stream",
          "text": [
            "AUC score on test data 0.9608931150304516\n"
          ],
          "name": "stdout"
        },
        {
          "output_type": "display_data",
          "data": {
            "image/png": "[encoded data removed]",
            "text/plain": [
              "<Figure size 432x288 with 1 Axes>"
            ]
          },
          "metadata": {
            "tags": []
          }
        },
        {
          "output_type": "stream",
          "text": [
            "macro f1 score for data : 0.8285234206278088\n",
            "micro f1 scoore for data: 0.9216856441987332\n",
            "hamming loss for data: 0.07831435580126679\n",
            "Precision recall report for data:\n",
            "               precision    recall  f1-score   support\n",
            "\n",
            "           0       0.88      0.58      0.70      8646\n",
            "           1       0.93      0.99      0.95     45980\n",
            "\n",
            "    accuracy                           0.92     54626\n",
            "   macro avg       0.90      0.78      0.83     54626\n",
            "weighted avg       0.92      0.92      0.91     54626\n",
            "\n"
          ],
          "name": "stdout"
        },
        {
          "output_type": "display_data",
          "data": {
            "image/png": "[encoded data removed]",
            "text/plain": [
              "<Figure size 432x288 with 2 Axes>"
            ]
          },
          "metadata": {
            "tags": []
          }
        }
      ]
    },
    {
      "cell_type": "markdown",
      "metadata": {
        "colab_type": "text",
        "id": "_pfQ3sHi2JSD"
      },
      "source": [
        "\n"
      ]
    },
    {
      "cell_type": "code",
      "metadata": {
        "colab_type": "code",
        "id": "yTVTGVBs8VTy",
        "colab": {
          "base_uri": "https://localhost:8080/",
          "height": 359
        },
        "outputId": "a491607c-c1cd-4ab3-d896-c2371c9ff533"
      },
      "source": [
        "clf= MultinomialNB(alpha=optimal_alpha)\n",
        "clf.fit(tfidf_train,y_train)\n",
        "imp_df=impFeatures(tf_idf_vec,clf)\n",
        "imp_df.head(10)"
      ],
      "execution_count": 185,
      "outputs": [
        {
          "output_type": "execute_result",
          "data": {
            "text/html": [
              "<div>\n",
              "<style scoped>\n",
              "    .dataframe tbody tr th:only-of-type {\n",
              "        vertical-align: middle;\n",
              "    }\n",
              "\n",
              "    .dataframe tbody tr th {\n",
              "        vertical-align: top;\n",
              "    }\n",
              "\n",
              "    .dataframe thead th {\n",
              "        text-align: right;\n",
              "    }\n",
              "</style>\n",
              "<table border=\"1\" class=\"dataframe\">\n",
              "  <thead>\n",
              "    <tr style=\"text-align: right;\">\n",
              "      <th></th>\n",
              "      <th>Positive word</th>\n",
              "      <th>Positive importance</th>\n",
              "      <th>Negative word</th>\n",
              "      <th>Negative importance</th>\n",
              "    </tr>\n",
              "  </thead>\n",
              "  <tbody>\n",
              "    <tr>\n",
              "      <th>0</th>\n",
              "      <td>not</td>\n",
              "      <td>-5.527642</td>\n",
              "      <td>not</td>\n",
              "      <td>-4.986352</td>\n",
              "    </tr>\n",
              "    <tr>\n",
              "      <th>1</th>\n",
              "      <td>great</td>\n",
              "      <td>-5.877305</td>\n",
              "      <td>like</td>\n",
              "      <td>-5.799395</td>\n",
              "    </tr>\n",
              "    <tr>\n",
              "      <th>2</th>\n",
              "      <td>good</td>\n",
              "      <td>-5.948560</td>\n",
              "      <td>product</td>\n",
              "      <td>-5.890993</td>\n",
              "    </tr>\n",
              "    <tr>\n",
              "      <th>3</th>\n",
              "      <td>like</td>\n",
              "      <td>-6.008957</td>\n",
              "      <td>taste</td>\n",
              "      <td>-5.935467</td>\n",
              "    </tr>\n",
              "    <tr>\n",
              "      <th>4</th>\n",
              "      <td>coffee</td>\n",
              "      <td>-6.090629</td>\n",
              "      <td>would</td>\n",
              "      <td>-5.941806</td>\n",
              "    </tr>\n",
              "    <tr>\n",
              "      <th>5</th>\n",
              "      <td>tea</td>\n",
              "      <td>-6.092233</td>\n",
              "      <td>one</td>\n",
              "      <td>-6.212404</td>\n",
              "    </tr>\n",
              "    <tr>\n",
              "      <th>6</th>\n",
              "      <td>love</td>\n",
              "      <td>-6.116936</td>\n",
              "      <td>coffee</td>\n",
              "      <td>-6.212923</td>\n",
              "    </tr>\n",
              "    <tr>\n",
              "      <th>7</th>\n",
              "      <td>product</td>\n",
              "      <td>-6.202917</td>\n",
              "      <td>no</td>\n",
              "      <td>-6.316757</td>\n",
              "    </tr>\n",
              "    <tr>\n",
              "      <th>8</th>\n",
              "      <td>taste</td>\n",
              "      <td>-6.235038</td>\n",
              "      <td>flavor</td>\n",
              "      <td>-6.362803</td>\n",
              "    </tr>\n",
              "    <tr>\n",
              "      <th>9</th>\n",
              "      <td>one</td>\n",
              "      <td>-6.245559</td>\n",
              "      <td>good</td>\n",
              "      <td>-6.457880</td>\n",
              "    </tr>\n",
              "  </tbody>\n",
              "</table>\n",
              "</div>"
            ],
            "text/plain": [
              "  Positive word  Positive importance Negative word  Negative importance\n",
              "0           not            -5.527642           not            -4.986352\n",
              "1         great            -5.877305          like            -5.799395\n",
              "2          good            -5.948560       product            -5.890993\n",
              "3          like            -6.008957         taste            -5.935467\n",
              "4        coffee            -6.090629         would            -5.941806\n",
              "5           tea            -6.092233           one            -6.212404\n",
              "6          love            -6.116936        coffee            -6.212923\n",
              "7       product            -6.202917            no            -6.316757\n",
              "8         taste            -6.235038        flavor            -6.362803\n",
              "9           one            -6.245559          good            -6.457880"
            ]
          },
          "metadata": {
            "tags": []
          },
          "execution_count": 185
        }
      ]
    },
    {
      "cell_type": "markdown",
      "metadata": {
        "colab_type": "text",
        "id": "9Y7BuszK2OPI"
      },
      "source": [
        "#Conclusion"
      ]
    },
    {
      "cell_type": "code",
      "metadata": {
        "colab_type": "code",
        "id": "cZNSFny0kp6h",
        "colab": {
          "base_uri": "https://localhost:8080/",
          "height": 119
        },
        "outputId": "ef41b2a3-2536-4322-eef1-70765302cdb9"
      },
      "source": [
        "from prettytable import PrettyTable\n",
        "x= PrettyTable()\n",
        "x.field_names= [\"Vectorizer\",\"Best hyper parameter\",\"Test Auc Score\"]\n",
        "x.add_row ([\"BOW\",\"0.1\",\" 94.49\"])\n",
        "x.add_row ([\"Tf-idf\",\"0.1\",\" 96.08\"])\n",
        "print(x)"
      ],
      "execution_count": 189,
      "outputs": [
        {
          "output_type": "stream",
          "text": [
            "+------------+----------------------+----------------+\n",
            "| Vectorizer | Best hyper parameter | Test Auc Score |\n",
            "+------------+----------------------+----------------+\n",
            "|    BOW     |         0.1          |      94.49     |\n",
            "|   Tf-idf   |         0.1          |      96.08     |\n",
            "+------------+----------------------+----------------+\n"
          ],
          "name": "stdout"
        }
      ]
    }
  ]
}